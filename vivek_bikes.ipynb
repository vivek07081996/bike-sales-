{
 "cells": [
  {
   "cell_type": "code",
   "execution_count": 29,
   "id": "38bd1a01-dc70-40b8-8d66-d283582e4096",
   "metadata": {},
   "outputs": [],
   "source": [
    "import pandas as pd \n",
    "import numpy as np \n",
    "import seaborn as sns \n",
    "import matplotlib.pyplot as plt "
   ]
  },
  {
   "cell_type": "markdown",
   "id": "928888db-96b9-44f1-9618-68f43febac0c",
   "metadata": {},
   "source": [
    " perform some basic analysis to understand what kind of data we are dealing with "
   ]
  },
  {
   "cell_type": "code",
   "execution_count": 30,
   "id": "43f07f8f-cdaf-492f-86be-6edcb72faaab",
   "metadata": {},
   "outputs": [],
   "source": [
    "df = pd.read_csv(r'C:\\Users\\ndhar\\bike_sales_india.csv',on_bad_lines = 'skip')"
   ]
  },
  {
   "cell_type": "code",
   "execution_count": 31,
   "id": "2abdad63-4395-4ac1-abc3-e4bf6a045896",
   "metadata": {},
   "outputs": [
    {
     "data": {
      "text/html": [
       "<div>\n",
       "<style scoped>\n",
       "    .dataframe tbody tr th:only-of-type {\n",
       "        vertical-align: middle;\n",
       "    }\n",
       "\n",
       "    .dataframe tbody tr th {\n",
       "        vertical-align: top;\n",
       "    }\n",
       "\n",
       "    .dataframe thead th {\n",
       "        text-align: right;\n",
       "    }\n",
       "</style>\n",
       "<table border=\"1\" class=\"dataframe\">\n",
       "  <thead>\n",
       "    <tr style=\"text-align: right;\">\n",
       "      <th></th>\n",
       "      <th>State</th>\n",
       "      <th>Avg Daily Distance (km)</th>\n",
       "      <th>Brand</th>\n",
       "      <th>Model</th>\n",
       "      <th>Price (INR)</th>\n",
       "      <th>Year of Manufacture</th>\n",
       "      <th>Engine Capacity (cc)</th>\n",
       "      <th>Fuel Type</th>\n",
       "      <th>Mileage (km/l)</th>\n",
       "      <th>Owner Type</th>\n",
       "      <th>Registration Year</th>\n",
       "      <th>Insurance Status</th>\n",
       "      <th>Seller Type</th>\n",
       "      <th>Resale Price (INR)</th>\n",
       "      <th>City Tier</th>\n",
       "    </tr>\n",
       "  </thead>\n",
       "  <tbody>\n",
       "    <tr>\n",
       "      <th>0</th>\n",
       "      <td>Karnataka</td>\n",
       "      <td>68.84</td>\n",
       "      <td>Royal Enfield</td>\n",
       "      <td>Hunter 350</td>\n",
       "      <td>252816</td>\n",
       "      <td>2021</td>\n",
       "      <td>672</td>\n",
       "      <td>Electric</td>\n",
       "      <td>78.41</td>\n",
       "      <td>Second</td>\n",
       "      <td>2024</td>\n",
       "      <td>Active</td>\n",
       "      <td>Individual</td>\n",
       "      <td>149934.18</td>\n",
       "      <td>Tier 3</td>\n",
       "    </tr>\n",
       "    <tr>\n",
       "      <th>1</th>\n",
       "      <td>Rajasthan</td>\n",
       "      <td>23.80</td>\n",
       "      <td>Bajaj</td>\n",
       "      <td>Dominar 400</td>\n",
       "      <td>131100</td>\n",
       "      <td>2020</td>\n",
       "      <td>769</td>\n",
       "      <td>Hybrid</td>\n",
       "      <td>89.98</td>\n",
       "      <td>Third</td>\n",
       "      <td>2023</td>\n",
       "      <td>Active</td>\n",
       "      <td>Individual</td>\n",
       "      <td>66960.30</td>\n",
       "      <td>Tier 3</td>\n",
       "    </tr>\n",
       "    <tr>\n",
       "      <th>2</th>\n",
       "      <td>Madhya Pradesh</td>\n",
       "      <td>27.67</td>\n",
       "      <td>KTM</td>\n",
       "      <td>125 Duke</td>\n",
       "      <td>201016</td>\n",
       "      <td>2020</td>\n",
       "      <td>216</td>\n",
       "      <td>Hybrid</td>\n",
       "      <td>71.46</td>\n",
       "      <td>Second</td>\n",
       "      <td>2023</td>\n",
       "      <td>Active</td>\n",
       "      <td>Dealer</td>\n",
       "      <td>141522.64</td>\n",
       "      <td>Tier 3</td>\n",
       "    </tr>\n",
       "    <tr>\n",
       "      <th>3</th>\n",
       "      <td>Karnataka</td>\n",
       "      <td>62.85</td>\n",
       "      <td>Kawasaki</td>\n",
       "      <td>Ninja 300</td>\n",
       "      <td>132482</td>\n",
       "      <td>2021</td>\n",
       "      <td>556</td>\n",
       "      <td>Petrol</td>\n",
       "      <td>51.73</td>\n",
       "      <td>Third</td>\n",
       "      <td>2021</td>\n",
       "      <td>Active</td>\n",
       "      <td>Dealer</td>\n",
       "      <td>56057.22</td>\n",
       "      <td>Tier 1</td>\n",
       "    </tr>\n",
       "    <tr>\n",
       "      <th>4</th>\n",
       "      <td>Madhya Pradesh</td>\n",
       "      <td>10.62</td>\n",
       "      <td>Yamaha</td>\n",
       "      <td>FZ V3</td>\n",
       "      <td>231796</td>\n",
       "      <td>2019</td>\n",
       "      <td>298</td>\n",
       "      <td>Petrol</td>\n",
       "      <td>54.72</td>\n",
       "      <td>Third</td>\n",
       "      <td>2019</td>\n",
       "      <td>Not Available</td>\n",
       "      <td>Individual</td>\n",
       "      <td>132538.36</td>\n",
       "      <td>Tier 3</td>\n",
       "    </tr>\n",
       "  </tbody>\n",
       "</table>\n",
       "</div>"
      ],
      "text/plain": [
       "            State  Avg Daily Distance (km)          Brand        Model  \\\n",
       "0       Karnataka                    68.84  Royal Enfield   Hunter 350   \n",
       "1       Rajasthan                    23.80          Bajaj  Dominar 400   \n",
       "2  Madhya Pradesh                    27.67            KTM     125 Duke   \n",
       "3       Karnataka                    62.85       Kawasaki    Ninja 300   \n",
       "4  Madhya Pradesh                    10.62         Yamaha        FZ V3   \n",
       "\n",
       "   Price (INR)  Year of Manufacture  Engine Capacity (cc) Fuel Type  \\\n",
       "0       252816                 2021                   672  Electric   \n",
       "1       131100                 2020                   769    Hybrid   \n",
       "2       201016                 2020                   216    Hybrid   \n",
       "3       132482                 2021                   556    Petrol   \n",
       "4       231796                 2019                   298    Petrol   \n",
       "\n",
       "   Mileage (km/l) Owner Type  Registration Year Insurance Status Seller Type  \\\n",
       "0           78.41     Second               2024           Active  Individual   \n",
       "1           89.98      Third               2023           Active  Individual   \n",
       "2           71.46     Second               2023           Active      Dealer   \n",
       "3           51.73      Third               2021           Active      Dealer   \n",
       "4           54.72      Third               2019    Not Available  Individual   \n",
       "\n",
       "   Resale Price (INR) City Tier  \n",
       "0           149934.18    Tier 3  \n",
       "1            66960.30    Tier 3  \n",
       "2           141522.64    Tier 3  \n",
       "3            56057.22    Tier 1  \n",
       "4           132538.36    Tier 3  "
      ]
     },
     "execution_count": 31,
     "metadata": {},
     "output_type": "execute_result"
    }
   ],
   "source": [
    "df.head(5)"
   ]
  },
  {
   "cell_type": "code",
   "execution_count": 32,
   "id": "f532bfd8-3fa6-4c19-a2df-1158188e8606",
   "metadata": {},
   "outputs": [
    {
     "data": {
      "text/plain": [
       "(10000, 15)"
      ]
     },
     "execution_count": 32,
     "metadata": {},
     "output_type": "execute_result"
    }
   ],
   "source": [
    "df.shape"
   ]
  },
  {
   "cell_type": "code",
   "execution_count": 33,
   "id": "52fa92a3-8f69-4d28-adad-a4d42bdf2a1f",
   "metadata": {},
   "outputs": [
    {
     "data": {
      "text/plain": [
       "State                      0\n",
       "Avg Daily Distance (km)    0\n",
       "Brand                      0\n",
       "Model                      0\n",
       "Price (INR)                0\n",
       "Year of Manufacture        0\n",
       "Engine Capacity (cc)       0\n",
       "Fuel Type                  0\n",
       "Mileage (km/l)             0\n",
       "Owner Type                 0\n",
       "Registration Year          0\n",
       "Insurance Status           0\n",
       "Seller Type                0\n",
       "Resale Price (INR)         0\n",
       "City Tier                  0\n",
       "dtype: int64"
      ]
     },
     "execution_count": 33,
     "metadata": {},
     "output_type": "execute_result"
    }
   ],
   "source": [
    "df.isnull().sum()"
   ]
  },
  {
   "cell_type": "code",
   "execution_count": 34,
   "id": "b33c9bd4-8d39-43dc-9928-5cffdd35acc4",
   "metadata": {},
   "outputs": [
    {
     "name": "stdout",
     "output_type": "stream",
     "text": [
      "<class 'pandas.core.frame.DataFrame'>\n",
      "RangeIndex: 10000 entries, 0 to 9999\n",
      "Data columns (total 15 columns):\n",
      " #   Column                   Non-Null Count  Dtype  \n",
      "---  ------                   --------------  -----  \n",
      " 0   State                    10000 non-null  object \n",
      " 1   Avg Daily Distance (km)  10000 non-null  float64\n",
      " 2   Brand                    10000 non-null  object \n",
      " 3   Model                    10000 non-null  object \n",
      " 4   Price (INR)              10000 non-null  int64  \n",
      " 5   Year of Manufacture      10000 non-null  int64  \n",
      " 6   Engine Capacity (cc)     10000 non-null  int64  \n",
      " 7   Fuel Type                10000 non-null  object \n",
      " 8   Mileage (km/l)           10000 non-null  float64\n",
      " 9   Owner Type               10000 non-null  object \n",
      " 10  Registration Year        10000 non-null  int64  \n",
      " 11  Insurance Status         10000 non-null  object \n",
      " 12  Seller Type              10000 non-null  object \n",
      " 13  Resale Price (INR)       10000 non-null  float64\n",
      " 14  City Tier                10000 non-null  object \n",
      "dtypes: float64(3), int64(4), object(8)\n",
      "memory usage: 1.1+ MB\n"
     ]
    }
   ],
   "source": [
    "df.info()\n"
   ]
  },
  {
   "cell_type": "code",
   "execution_count": 35,
   "id": "ff9aff78-8052-43ab-a19d-acd27337ddff",
   "metadata": {},
   "outputs": [
    {
     "data": {
      "text/plain": [
       "State                         10\n",
       "Avg Daily Distance (km)     5535\n",
       "Brand                          8\n",
       "Model                         40\n",
       "Price (INR)                 9863\n",
       "Year of Manufacture           10\n",
       "Engine Capacity (cc)         901\n",
       "Fuel Type                      3\n",
       "Mileage (km/l)              5404\n",
       "Owner Type                     3\n",
       "Registration Year             10\n",
       "Insurance Status               3\n",
       "Seller Type                    2\n",
       "Resale Price (INR)         10000\n",
       "City Tier                      4\n",
       "dtype: int64"
      ]
     },
     "execution_count": 35,
     "metadata": {},
     "output_type": "execute_result"
    }
   ],
   "source": [
    "df.nunique()"
   ]
  },
  {
   "cell_type": "code",
   "execution_count": 36,
   "id": "8956371f-57b3-49e3-b5d3-3a9f4e75de3c",
   "metadata": {},
   "outputs": [
    {
     "data": {
      "text/plain": [
       "Model\n",
       "Ray ZR             279\n",
       "NTorq 125          271\n",
       "Duke 200           270\n",
       "250 Duke           269\n",
       "Vulcan S           267\n",
       "MT-15              267\n",
       "Classic 350        267\n",
       "Interceptor 650    264\n",
       "Pulsar 150         261\n",
       "Versys 650         261\n",
       "Hunter 350         259\n",
       "Glamour            258\n",
       "Sport              258\n",
       "Unicorn            257\n",
       "HF Deluxe          257\n",
       "FZ V3              256\n",
       "Ninja 300          256\n",
       "Ninja 400          255\n",
       "390 Adventure      254\n",
       "Z650               252\n",
       "Ronin              252\n",
       "Himalayan          249\n",
       "Avenger 220        249\n",
       "Xtreme 160R        249\n",
       "Fascino 125        248\n",
       "CBR 650R           248\n",
       "RC 390             248\n",
       "Passion Pro        247\n",
       "Shine              244\n",
       "Dio                242\n",
       "CT 100             236\n",
       "Dominar 400        233\n",
       "R15 V4             233\n",
       "125 Duke           231\n",
       "Activa             230\n",
       "Splendor Plus      228\n",
       "Platina 110        228\n",
       "Apache RTR 160     227\n",
       "Jupiter            226\n",
       "Meteor 350         214\n",
       "Name: count, dtype: int64"
      ]
     },
     "execution_count": 36,
     "metadata": {},
     "output_type": "execute_result"
    }
   ],
   "source": [
    "df['Model'].value_counts()\n",
    "\n"
   ]
  },
  {
   "cell_type": "code",
   "execution_count": 37,
   "id": "3db31782-fd89-430b-afc1-dcf1ed7a8def",
   "metadata": {},
   "outputs": [
    {
     "data": {
      "text/plain": [
       "27      296387\n",
       "40      292817\n",
       "107     396806\n",
       "141     161061\n",
       "193     167945\n",
       "         ...  \n",
       "9807    121226\n",
       "9836    199111\n",
       "9852    168319\n",
       "9854    146445\n",
       "9982    143881\n",
       "Name: Price (INR), Length: 279, dtype: int64"
      ]
     },
     "execution_count": 37,
     "metadata": {},
     "output_type": "execute_result"
    }
   ],
   "source": [
    "df.loc[df['Model'] == 'Ray ZR', 'Price (INR)']"
   ]
  },
  {
   "cell_type": "code",
   "execution_count": 38,
   "id": "1d3024d3-4823-49df-ac1d-8d283c22b887",
   "metadata": {},
   "outputs": [
    {
     "name": "stdout",
     "output_type": "stream",
     "text": [
      "        Model  Year of Manufacture  Price (INR)\n",
      "0    125 Duke                 2015      5659464\n",
      "1    125 Duke                 2016      4444360\n",
      "2    125 Duke                 2017      5608320\n",
      "3    125 Duke                 2018      5620146\n",
      "4    125 Duke                 2019      5433447\n",
      "..        ...                  ...          ...\n",
      "395      Z650                 2020      5601954\n",
      "396      Z650                 2021      4924408\n",
      "397      Z650                 2022      4937010\n",
      "398      Z650                 2023      7574344\n",
      "399      Z650                 2024      8147074\n",
      "\n",
      "[400 rows x 3 columns]\n"
     ]
    }
   ],
   "source": [
    "grouped_df = df.groupby(['Model', 'Year of Manufacture'])['Price (INR)'].sum().reset_index()\n",
    "print(grouped_df)"
   ]
  },
  {
   "cell_type": "code",
   "execution_count": 39,
   "id": "2182e0aa-f546-4153-b836-ee470610f7c9",
   "metadata": {
    "scrolled": true
   },
   "outputs": [
    {
     "data": {
      "text/html": [
       "<div>\n",
       "<style scoped>\n",
       "    .dataframe tbody tr th:only-of-type {\n",
       "        vertical-align: middle;\n",
       "    }\n",
       "\n",
       "    .dataframe tbody tr th {\n",
       "        vertical-align: top;\n",
       "    }\n",
       "\n",
       "    .dataframe thead th {\n",
       "        text-align: right;\n",
       "    }\n",
       "</style>\n",
       "<table border=\"1\" class=\"dataframe\">\n",
       "  <thead>\n",
       "    <tr style=\"text-align: right;\">\n",
       "      <th></th>\n",
       "      <th>Model</th>\n",
       "      <th>Year of Manufacture</th>\n",
       "      <th>Price (INR)</th>\n",
       "    </tr>\n",
       "  </thead>\n",
       "  <tbody>\n",
       "    <tr>\n",
       "      <th>30</th>\n",
       "      <td>Activa</td>\n",
       "      <td>2015</td>\n",
       "      <td>7231630</td>\n",
       "    </tr>\n",
       "    <tr>\n",
       "      <th>31</th>\n",
       "      <td>Activa</td>\n",
       "      <td>2016</td>\n",
       "      <td>4074325</td>\n",
       "    </tr>\n",
       "    <tr>\n",
       "      <th>32</th>\n",
       "      <td>Activa</td>\n",
       "      <td>2017</td>\n",
       "      <td>5000323</td>\n",
       "    </tr>\n",
       "    <tr>\n",
       "      <th>33</th>\n",
       "      <td>Activa</td>\n",
       "      <td>2018</td>\n",
       "      <td>5106889</td>\n",
       "    </tr>\n",
       "    <tr>\n",
       "      <th>34</th>\n",
       "      <td>Activa</td>\n",
       "      <td>2019</td>\n",
       "      <td>5412718</td>\n",
       "    </tr>\n",
       "    <tr>\n",
       "      <th>35</th>\n",
       "      <td>Activa</td>\n",
       "      <td>2020</td>\n",
       "      <td>6524881</td>\n",
       "    </tr>\n",
       "    <tr>\n",
       "      <th>36</th>\n",
       "      <td>Activa</td>\n",
       "      <td>2021</td>\n",
       "      <td>5040153</td>\n",
       "    </tr>\n",
       "    <tr>\n",
       "      <th>37</th>\n",
       "      <td>Activa</td>\n",
       "      <td>2022</td>\n",
       "      <td>4090129</td>\n",
       "    </tr>\n",
       "    <tr>\n",
       "      <th>38</th>\n",
       "      <td>Activa</td>\n",
       "      <td>2023</td>\n",
       "      <td>4877533</td>\n",
       "    </tr>\n",
       "    <tr>\n",
       "      <th>39</th>\n",
       "      <td>Activa</td>\n",
       "      <td>2024</td>\n",
       "      <td>5652122</td>\n",
       "    </tr>\n",
       "  </tbody>\n",
       "</table>\n",
       "</div>"
      ],
      "text/plain": [
       "     Model  Year of Manufacture  Price (INR)\n",
       "30  Activa                 2015      7231630\n",
       "31  Activa                 2016      4074325\n",
       "32  Activa                 2017      5000323\n",
       "33  Activa                 2018      5106889\n",
       "34  Activa                 2019      5412718\n",
       "35  Activa                 2020      6524881\n",
       "36  Activa                 2021      5040153\n",
       "37  Activa                 2022      4090129\n",
       "38  Activa                 2023      4877533\n",
       "39  Activa                 2024      5652122"
      ]
     },
     "execution_count": 39,
     "metadata": {},
     "output_type": "execute_result"
    }
   ],
   "source": [
    "grouped_df.query(\"Model == 'Activa'\")\n"
   ]
  },
  {
   "cell_type": "markdown",
   "id": "6070a80c-0baa-4b00-a8fc-eb92327f0c25",
   "metadata": {},
   "source": [
    "I have conducted a comprehensive analysis of various bike models, detailing the annual sales figures for each model."
   ]
  },
  {
   "cell_type": "code",
   "execution_count": 40,
   "id": "930780b6-c198-4b54-ba34-96f57adba4cf",
   "metadata": {},
   "outputs": [],
   "source": [
    "\n",
    "import ipywidgets as widgets \n",
    "from IPython.display import display"
   ]
  },
  {
   "cell_type": "code",
   "execution_count": 57,
   "id": "aa12524a-1b6e-4dd9-a29d-ce49545609cd",
   "metadata": {},
   "outputs": [
    {
     "data": {
      "application/vnd.jupyter.widget-view+json": {
       "model_id": "192d2f4cc0094dbd9e26e94f986cdff5",
       "version_major": 2,
       "version_minor": 0
      },
      "text/plain": [
       "Dropdown(description='Model:', options=('Hunter 350', 'Dominar 400', '125 Duke', 'Ninja 300', 'FZ V3', 'Splend…"
      ]
     },
     "metadata": {},
     "output_type": "display_data"
    },
    {
     "data": {
      "application/vnd.jupyter.widget-view+json": {
       "model_id": "f5bf73a870404278ba92f80f60f569d5",
       "version_major": 2,
       "version_minor": 0
      },
      "text/plain": [
       "Output()"
      ]
     },
     "metadata": {},
     "output_type": "display_data"
    }
   ],
   "source": [
    "output = widgets.Output()\n",
    "\n",
    "model_dropdown = widgets.Dropdown(options=df[\"Model\"].unique(),value=df[\"Model\"].unique()[0],description='Model:')\n",
    "\n",
    "def plot_bar_graph(model_name):\n",
    "    filtered_df = df[df[\"Model\"] == model_name]\n",
    "    \n",
    "    yearly_price_sum = filtered_df.groupby(\"Year of Manufacture\")[\"Price (INR)\"].sum().reset_index()\n",
    "\n",
    "    with output:\n",
    "        output.clear_output(wait=True)  \n",
    "        plt.figure(figsize=(11, 5))\n",
    "        \n",
    "        bars = plt.bar(yearly_price_sum[\"Year of Manufacture\"], \n",
    "                       yearly_price_sum[\"Price (INR)\"], color='blue')\n",
    "        plt.xlabel(\"Year of Manufacture\")\n",
    "        plt.ylabel(\"Total Price (INR)\")\n",
    "        plt.title(f\"Total Price Trend for {model_name} by Year\")\n",
    "        plt.xticks(yearly_price_sum[\"Year of Manufacture\"])  \n",
    "        plt.grid(axis='y', linestyle='--', alpha=0.7)\n",
    "        plt.ylim(0, yearly_price_sum[\"Price (INR)\"].max() + 100000)\n",
    "        \n",
    "        for bar in bars:\n",
    "            yval = bar.get_height()\n",
    "            plt.text(bar.get_x() + bar.get_width() / 2, yval + 5000, f'{yval:.0f}',ha='center', va='bottom', fontsize=10)\n",
    "\n",
    "        plt.tight_layout()\n",
    "        plt.show()\n",
    "def update_plot(change):\n",
    "    plot_bar_graph(change['new'])\n",
    "\n",
    "\n",
    "model_dropdown.observe(update_plot, names='value')\n",
    "\n",
    "\n",
    "display(model_dropdown, output)\n",
    "\n",
    "plot_bar_graph(df[\"Model\"].unique()[0])\n"
   ]
  },
  {
   "cell_type": "markdown",
   "id": "f9adba09-00f1-4a93-a388-e9649fc05fe8",
   "metadata": {},
   "source": [
    "This analysis was conducted by evaluating the number of bikes sold by each company"
   ]
  },
  {
   "cell_type": "code",
   "execution_count": 42,
   "id": "659c55d2-fe62-446b-8dfa-4a1e1c9ea2db",
   "metadata": {},
   "outputs": [
    {
     "data": {
      "text/plain": [
       "Index(['State', 'Avg Daily Distance (km)', 'Brand', 'Model', 'Price (INR)',\n",
       "       'Year of Manufacture', 'Engine Capacity (cc)', 'Fuel Type',\n",
       "       'Mileage (km/l)', 'Owner Type', 'Registration Year', 'Insurance Status',\n",
       "       'Seller Type', 'Resale Price (INR)', 'City Tier'],\n",
       "      dtype='object')"
      ]
     },
     "execution_count": 42,
     "metadata": {},
     "output_type": "execute_result"
    }
   ],
   "source": [
    "df.columns"
   ]
  },
  {
   "cell_type": "code",
   "execution_count": 43,
   "id": "ea99a929-9b3f-404f-96eb-b0ae49c1900a",
   "metadata": {},
   "outputs": [
    {
     "name": "stdout",
     "output_type": "stream",
     "text": [
      "Brand\n",
      "Bajaj            5\n",
      "Hero             5\n",
      "Honda            5\n",
      "KTM              5\n",
      "Kawasaki         5\n",
      "Royal Enfield    5\n",
      "TVS              5\n",
      "Yamaha           5\n",
      "Name: Model, dtype: int64\n"
     ]
    }
   ],
   "source": [
    "brand_model_count = df.groupby(\"Brand\")[\"Model\"].nunique()\n",
    "\n",
    "print(brand_model_count)"
   ]
  },
  {
   "cell_type": "code",
   "execution_count": 44,
   "id": "96c80caf-d4da-4277-af16-8ec44c910465",
   "metadata": {},
   "outputs": [],
   "source": [
    "import ipywidgets as widgets\n",
    "from IPython.display import display, clear_output"
   ]
  },
  {
   "cell_type": "code",
   "execution_count": 58,
   "id": "901c2a33-5662-47b8-9d24-7c6c21b3bde2",
   "metadata": {},
   "outputs": [
    {
     "data": {
      "application/vnd.jupyter.widget-view+json": {
       "model_id": "f4683e7480b84738b22d27048fa8ee01",
       "version_major": 2,
       "version_minor": 0
      },
      "text/plain": [
       "Dropdown(description='Select Brand:', options=('Royal Enfield', 'Bajaj', 'KTM', 'Kawasaki', 'Yamaha', 'Hero', …"
      ]
     },
     "metadata": {},
     "output_type": "display_data"
    },
    {
     "data": {
      "application/vnd.jupyter.widget-view+json": {
       "model_id": "162c341d822d49fd95bc277eaece4bb5",
       "version_major": 2,
       "version_minor": 0
      },
      "text/plain": [
       "Output()"
      ]
     },
     "metadata": {},
     "output_type": "display_data"
    }
   ],
   "source": [
    "brand_dropdown = widgets.Dropdown(options=df[\"Brand\"].unique(),description=\"Select Brand:\")\n",
    "\n",
    "output = widgets.Output()\n",
    "\n",
    "def plot_pie_chart(brand):\n",
    "    brand_df = df[df[\"Brand\"] == brand]\n",
    "    model_counts = brand_df[\"Model\"].value_counts()\n",
    "    \n",
    "    output.clear_output(wait=True)\n",
    "    \n",
    "    fig, ax = plt.subplots(figsize=(6, 6))\n",
    "    ax.pie(model_counts.values, labels=model_counts.index, autopct='%1.1f%%')\n",
    "    ax.set_title(f\"Model Distribution for {brand}\")\n",
    "    \n",
    "    with output:\n",
    "        display(fig)\n",
    "    plt.close(fig)\n",
    "\n",
    "def on_brand_change(change):\n",
    "    if change['name'] == 'value' and change['new'] is not None:\n",
    "        print(\"New brand selected:\", change['new'])\n",
    "        plot_pie_chart(change['new'])\n",
    "\n",
    "brand_dropdown.observe(on_brand_change, names='value')\n",
    "\n",
    "display(brand_dropdown, output)\n",
    "\n",
    "plot_pie_chart(brand_dropdown.value)\n"
   ]
  },
  {
   "cell_type": "markdown",
   "id": "9954d2fc-71bc-412c-95ff-4161c0326cff",
   "metadata": {},
   "source": [
    "A comprehensive analysis was performed to evaluate the performance of various bike (Average Daily Distance [KM]) models across different states."
   ]
  },
  {
   "cell_type": "code",
   "execution_count": 59,
   "id": "6339e95d-167e-4f3f-ac45-06bd155fb1fa",
   "metadata": {},
   "outputs": [],
   "source": [
    "import warnings\n",
    "from warnings import filterwarnings\n",
    "filterwarnings('ignore')"
   ]
  },
  {
   "cell_type": "code",
   "execution_count": 60,
   "id": "066970dd-5c00-4c29-91f2-3934b13f8cac",
   "metadata": {},
   "outputs": [],
   "source": [
    "ktm_duke200_df = df[(df[\"Brand\"] == \"KTM\") & (df[\"Model\"] == \"Duke 200\")]"
   ]
  },
  {
   "cell_type": "code",
   "execution_count": 61,
   "id": "68f805eb-15cd-4186-885e-2384d1ac31c2",
   "metadata": {},
   "outputs": [
    {
     "data": {
      "text/plain": [
       "array(['West Bengal', 'Tamil Nadu', 'Karnataka', 'Rajasthan', 'Punjab',\n",
       "       'Gujarat', 'Madhya Pradesh', 'Maharashtra', 'Delhi',\n",
       "       'Uttar Pradesh'], dtype=object)"
      ]
     },
     "execution_count": 61,
     "metadata": {},
     "output_type": "execute_result"
    }
   ],
   "source": [
    "ktm_duke200_df['State'].unique()"
   ]
  },
  {
   "cell_type": "code",
   "execution_count": 62,
   "id": "4b816864-3c23-4fbd-91aa-fb9a0b57b4ce",
   "metadata": {},
   "outputs": [
    {
     "data": {
      "text/html": [
       "<div>\n",
       "<style scoped>\n",
       "    .dataframe tbody tr th:only-of-type {\n",
       "        vertical-align: middle;\n",
       "    }\n",
       "\n",
       "    .dataframe tbody tr th {\n",
       "        vertical-align: top;\n",
       "    }\n",
       "\n",
       "    .dataframe thead th {\n",
       "        text-align: right;\n",
       "    }\n",
       "</style>\n",
       "<table border=\"1\" class=\"dataframe\">\n",
       "  <thead>\n",
       "    <tr style=\"text-align: right;\">\n",
       "      <th></th>\n",
       "      <th>State</th>\n",
       "      <th>Avg Daily Distance (km)</th>\n",
       "      <th>Brand</th>\n",
       "      <th>Model</th>\n",
       "      <th>Price (INR)</th>\n",
       "      <th>Year of Manufacture</th>\n",
       "      <th>Engine Capacity (cc)</th>\n",
       "      <th>Fuel Type</th>\n",
       "      <th>Mileage (km/l)</th>\n",
       "      <th>Owner Type</th>\n",
       "      <th>Registration Year</th>\n",
       "      <th>Insurance Status</th>\n",
       "      <th>Seller Type</th>\n",
       "      <th>Resale Price (INR)</th>\n",
       "      <th>City Tier</th>\n",
       "    </tr>\n",
       "  </thead>\n",
       "  <tbody>\n",
       "    <tr>\n",
       "      <th>51</th>\n",
       "      <td>West Bengal</td>\n",
       "      <td>28.27</td>\n",
       "      <td>KTM</td>\n",
       "      <td>Duke 200</td>\n",
       "      <td>217205</td>\n",
       "      <td>2019</td>\n",
       "      <td>270</td>\n",
       "      <td>Hybrid</td>\n",
       "      <td>64.06</td>\n",
       "      <td>Second</td>\n",
       "      <td>2021</td>\n",
       "      <td>Not Available</td>\n",
       "      <td>Dealer</td>\n",
       "      <td>141079.28</td>\n",
       "      <td>Tier 3</td>\n",
       "    </tr>\n",
       "    <tr>\n",
       "      <th>169</th>\n",
       "      <td>Tamil Nadu</td>\n",
       "      <td>71.63</td>\n",
       "      <td>KTM</td>\n",
       "      <td>Duke 200</td>\n",
       "      <td>320626</td>\n",
       "      <td>2022</td>\n",
       "      <td>270</td>\n",
       "      <td>Petrol</td>\n",
       "      <td>46.57</td>\n",
       "      <td>Third</td>\n",
       "      <td>2023</td>\n",
       "      <td>Not Available</td>\n",
       "      <td>Dealer</td>\n",
       "      <td>156453.23</td>\n",
       "      <td>Tier 1</td>\n",
       "    </tr>\n",
       "    <tr>\n",
       "      <th>198</th>\n",
       "      <td>West Bengal</td>\n",
       "      <td>27.60</td>\n",
       "      <td>KTM</td>\n",
       "      <td>Duke 200</td>\n",
       "      <td>398287</td>\n",
       "      <td>2016</td>\n",
       "      <td>479</td>\n",
       "      <td>Hybrid</td>\n",
       "      <td>86.01</td>\n",
       "      <td>Third</td>\n",
       "      <td>2017</td>\n",
       "      <td>Active</td>\n",
       "      <td>Individual</td>\n",
       "      <td>274925.10</td>\n",
       "      <td>Metro</td>\n",
       "    </tr>\n",
       "    <tr>\n",
       "      <th>239</th>\n",
       "      <td>Karnataka</td>\n",
       "      <td>28.34</td>\n",
       "      <td>KTM</td>\n",
       "      <td>Duke 200</td>\n",
       "      <td>241646</td>\n",
       "      <td>2024</td>\n",
       "      <td>390</td>\n",
       "      <td>Hybrid</td>\n",
       "      <td>72.21</td>\n",
       "      <td>Second</td>\n",
       "      <td>2024</td>\n",
       "      <td>Not Available</td>\n",
       "      <td>Dealer</td>\n",
       "      <td>97027.78</td>\n",
       "      <td>Tier 2</td>\n",
       "    </tr>\n",
       "    <tr>\n",
       "      <th>252</th>\n",
       "      <td>Rajasthan</td>\n",
       "      <td>12.37</td>\n",
       "      <td>KTM</td>\n",
       "      <td>Duke 200</td>\n",
       "      <td>278881</td>\n",
       "      <td>2023</td>\n",
       "      <td>298</td>\n",
       "      <td>Petrol</td>\n",
       "      <td>35.77</td>\n",
       "      <td>Second</td>\n",
       "      <td>2023</td>\n",
       "      <td>Not Available</td>\n",
       "      <td>Dealer</td>\n",
       "      <td>203228.28</td>\n",
       "      <td>Tier 2</td>\n",
       "    </tr>\n",
       "  </tbody>\n",
       "</table>\n",
       "</div>"
      ],
      "text/plain": [
       "           State  Avg Daily Distance (km) Brand     Model  Price (INR)  \\\n",
       "51   West Bengal                    28.27   KTM  Duke 200       217205   \n",
       "169   Tamil Nadu                    71.63   KTM  Duke 200       320626   \n",
       "198  West Bengal                    27.60   KTM  Duke 200       398287   \n",
       "239    Karnataka                    28.34   KTM  Duke 200       241646   \n",
       "252    Rajasthan                    12.37   KTM  Duke 200       278881   \n",
       "\n",
       "     Year of Manufacture  Engine Capacity (cc) Fuel Type  Mileage (km/l)  \\\n",
       "51                  2019                   270    Hybrid           64.06   \n",
       "169                 2022                   270    Petrol           46.57   \n",
       "198                 2016                   479    Hybrid           86.01   \n",
       "239                 2024                   390    Hybrid           72.21   \n",
       "252                 2023                   298    Petrol           35.77   \n",
       "\n",
       "    Owner Type  Registration Year Insurance Status Seller Type  \\\n",
       "51      Second               2021    Not Available      Dealer   \n",
       "169      Third               2023    Not Available      Dealer   \n",
       "198      Third               2017           Active  Individual   \n",
       "239     Second               2024    Not Available      Dealer   \n",
       "252     Second               2023    Not Available      Dealer   \n",
       "\n",
       "     Resale Price (INR) City Tier  \n",
       "51            141079.28    Tier 3  \n",
       "169           156453.23    Tier 1  \n",
       "198           274925.10     Metro  \n",
       "239            97027.78    Tier 2  \n",
       "252           203228.28    Tier 2  "
      ]
     },
     "execution_count": 62,
     "metadata": {},
     "output_type": "execute_result"
    }
   ],
   "source": [
    "ktm_duke200_df.head(5)"
   ]
  },
  {
   "cell_type": "code",
   "execution_count": 63,
   "id": "69b79f5b-d944-4bad-bee6-df56b7a00612",
   "metadata": {},
   "outputs": [],
   "source": [
    "mean_distance = df.groupby(\"State\")[\"Avg Daily Distance (km)\"].mean().reset_index()\n"
   ]
  },
  {
   "cell_type": "code",
   "execution_count": 64,
   "id": "39a413f3-9d24-4132-ba70-1551fff116e2",
   "metadata": {},
   "outputs": [
    {
     "data": {
      "text/html": [
       "<div>\n",
       "<style scoped>\n",
       "    .dataframe tbody tr th:only-of-type {\n",
       "        vertical-align: middle;\n",
       "    }\n",
       "\n",
       "    .dataframe tbody tr th {\n",
       "        vertical-align: top;\n",
       "    }\n",
       "\n",
       "    .dataframe thead th {\n",
       "        text-align: right;\n",
       "    }\n",
       "</style>\n",
       "<table border=\"1\" class=\"dataframe\">\n",
       "  <thead>\n",
       "    <tr style=\"text-align: right;\">\n",
       "      <th></th>\n",
       "      <th>State</th>\n",
       "      <th>Avg Daily Distance (km)</th>\n",
       "    </tr>\n",
       "  </thead>\n",
       "  <tbody>\n",
       "    <tr>\n",
       "      <th>0</th>\n",
       "      <td>Delhi</td>\n",
       "      <td>41.336192</td>\n",
       "    </tr>\n",
       "    <tr>\n",
       "      <th>1</th>\n",
       "      <td>Gujarat</td>\n",
       "      <td>41.627814</td>\n",
       "    </tr>\n",
       "    <tr>\n",
       "      <th>2</th>\n",
       "      <td>Karnataka</td>\n",
       "      <td>42.746925</td>\n",
       "    </tr>\n",
       "    <tr>\n",
       "      <th>3</th>\n",
       "      <td>Madhya Pradesh</td>\n",
       "      <td>42.866033</td>\n",
       "    </tr>\n",
       "    <tr>\n",
       "      <th>4</th>\n",
       "      <td>Maharashtra</td>\n",
       "      <td>42.134282</td>\n",
       "    </tr>\n",
       "    <tr>\n",
       "      <th>5</th>\n",
       "      <td>Punjab</td>\n",
       "      <td>42.831931</td>\n",
       "    </tr>\n",
       "    <tr>\n",
       "      <th>6</th>\n",
       "      <td>Rajasthan</td>\n",
       "      <td>43.149882</td>\n",
       "    </tr>\n",
       "    <tr>\n",
       "      <th>7</th>\n",
       "      <td>Tamil Nadu</td>\n",
       "      <td>42.998189</td>\n",
       "    </tr>\n",
       "    <tr>\n",
       "      <th>8</th>\n",
       "      <td>Uttar Pradesh</td>\n",
       "      <td>42.921097</td>\n",
       "    </tr>\n",
       "    <tr>\n",
       "      <th>9</th>\n",
       "      <td>West Bengal</td>\n",
       "      <td>42.698723</td>\n",
       "    </tr>\n",
       "  </tbody>\n",
       "</table>\n",
       "</div>"
      ],
      "text/plain": [
       "            State  Avg Daily Distance (km)\n",
       "0           Delhi                41.336192\n",
       "1         Gujarat                41.627814\n",
       "2       Karnataka                42.746925\n",
       "3  Madhya Pradesh                42.866033\n",
       "4     Maharashtra                42.134282\n",
       "5          Punjab                42.831931\n",
       "6       Rajasthan                43.149882\n",
       "7      Tamil Nadu                42.998189\n",
       "8   Uttar Pradesh                42.921097\n",
       "9     West Bengal                42.698723"
      ]
     },
     "execution_count": 64,
     "metadata": {},
     "output_type": "execute_result"
    }
   ],
   "source": [
    "mean_distance"
   ]
  },
  {
   "cell_type": "code",
   "execution_count": 65,
   "id": "8dcf6666-bb70-4a1f-86cd-a98bae82907a",
   "metadata": {},
   "outputs": [
    {
     "data": {
      "image/png": "[encoded data removed]",
      "text/plain": [
       "<Figure size 600x500 with 1 Axes>"
      ]
     },
     "metadata": {},
     "output_type": "display_data"
    }
   ],
   "source": [
    "plt.figure(figsize=(6, 5))\n",
    "sns.barplot(x=\"State\", y=\"Avg Daily Distance (km)\", data=mean_distance, palette=\"viridis\")\n",
    "plt.title(\"Mean Daily Distance by State for KTM Duke 200\")\n",
    "plt.xlabel(\"State\")\n",
    "plt.ylabel(\"Mean Daily Distance (km)\")\n",
    "plt.xticks(rotation=45)\n",
    "plt.tight_layout()\n",
    "plt.show()"
   ]
  },
  {
   "cell_type": "code",
   "execution_count": 66,
   "id": "39c0ba45-2887-4ab8-9477-477a26b6e25b",
   "metadata": {},
   "outputs": [],
   "source": [
    "def plot_mean_distance_by_state(brand, model):\n",
    "    filtered_df = df[(df[\"Brand\"] == brand) & (df[\"Model\"] == model)]\n",
    "    if filtered_df.empty:\n",
    "        print(f\"No data found for {brand} {model}.\")\n",
    "        return\n",
    "    mean_distance = filtered_df.groupby(\"State\")[\"Avg Daily Distance (km)\"].mean().reset_index()\n",
    "    plt.figure(figsize=(6, 5))\n",
    "    ax = sns.barplot(x=\"State\", y=\"Avg Daily Distance (km)\", data=mean_distance, palette=\"viridis\")\n",
    "    plt.title(f\"Mean Daily Distance by State for {brand} {model}\")\n",
    "    plt.xlabel(\"State\")\n",
    "    plt.ylabel(\"Mean Daily Distance (km)\")\n",
    "    plt.xticks(rotation=45)\n",
    "    for bar in ax.patches:\n",
    "        height = bar.get_height()\n",
    "        ax.annotate(f'{height:.2f}',xy=(bar.get_x() + bar.get_width() / 2, height),xytext=(0, 5),textcoords=\"offset points\",ha='center', va='bottom')\n",
    "\n",
    "    plt.tight_layout()\n",
    "    plt.show()"
   ]
  },
  {
   "cell_type": "code",
   "execution_count": 67,
   "id": "73ab9f4f-bd73-47b9-8ddd-7b52225878c7",
   "metadata": {},
   "outputs": [
    {
     "data": {
      "text/plain": [
       "array(['Royal Enfield', 'Bajaj', 'KTM', 'Kawasaki', 'Yamaha', 'Hero',\n",
       "       'TVS', 'Honda'], dtype=object)"
      ]
     },
     "execution_count": 67,
     "metadata": {},
     "output_type": "execute_result"
    }
   ],
   "source": [
    "df['Brand'].unique()"
   ]
  },
  {
   "cell_type": "code",
   "execution_count": 68,
   "id": "2674cf6d-8303-4e1f-b9e6-7377d307414a",
   "metadata": {},
   "outputs": [
    {
     "data": {
      "image/png": "[encoded data removed]",
      "text/plain": [
       "<Figure size 600x500 with 1 Axes>"
      ]
     },
     "metadata": {},
     "output_type": "display_data"
    },
    {
     "data": {
      "image/png": "[encoded data removed]",
      "text/plain": [
       "<Figure size 600x500 with 1 Axes>"
      ]
     },
     "metadata": {},
     "output_type": "display_data"
    }
   ],
   "source": [
    "plot_mean_distance_by_state('Kawasaki', 'Vulcan S')\n",
    "plot_mean_distance_by_state('Kawasaki', 'Ninja 400')"
   ]
  },
  {
   "cell_type": "code",
   "execution_count": 70,
   "id": "8e6e5b70-1005-4447-a481-520cbdf30551",
   "metadata": {},
   "outputs": [
    {
     "data": {
      "application/vnd.jupyter.widget-view+json": {
       "model_id": "223b00e8d4804273969eadac0170a5c0",
       "version_major": 2,
       "version_minor": 0
      },
      "text/plain": [
       "Dropdown(description='Brand:', options=('Bajaj', 'Hero', 'Honda', 'KTM', 'Kawasaki', 'Royal Enfield', 'TVS', '…"
      ]
     },
     "metadata": {},
     "output_type": "display_data"
    },
    {
     "data": {
      "application/vnd.jupyter.widget-view+json": {
       "model_id": "0e7a2d39334f4e7588e54837b1a4f14b",
       "version_major": 2,
       "version_minor": 0
      },
      "text/plain": [
       "Dropdown(description='Model:', options=('Avenger 220', 'CT 100', 'Dominar 400', 'Platina 110', 'Pulsar 150'), …"
      ]
     },
     "metadata": {},
     "output_type": "display_data"
    },
    {
     "data": {
      "application/vnd.jupyter.widget-view+json": {
       "model_id": "376fcd96a3a742f1856464747269a505",
       "version_major": 2,
       "version_minor": 0
      },
      "text/plain": [
       "Output()"
      ]
     },
     "metadata": {},
     "output_type": "display_data"
    }
   ],
   "source": [
    "def plot_mean_distance_by_state(brand, model):\n",
    "    filtered_df = df[(df[\"Brand\"] == brand) & (df[\"Model\"] == model)]    \n",
    "    if filtered_df.empty:\n",
    "        print(f\"No data found for {brand} {model}.\")\n",
    "        return\n",
    "    mean_distance = filtered_df.groupby(\"State\")[\"Avg Daily Distance (km)\"].mean().reset_index()\n",
    "    plt.figure(figsize=(11, 6))\n",
    "    ax = sns.barplot(x=\"State\", y=\"Avg Daily Distance (km)\", data=mean_distance, palette=\"viridis\")\n",
    "    plt.title(f\"Mean Daily Distance by State for {brand} {model}\")\n",
    "    plt.xlabel(\"State\")\n",
    "    plt.ylabel(\"Mean Daily Distance (km)\")\n",
    "    plt.xticks(rotation=45)\n",
    "    for bar in ax.patches:\n",
    "        height = bar.get_height()\n",
    "        ax.annotate(f'{height:.2f}',xy=(bar.get_x() + bar.get_width() / 2, height),xytext=(0, 5),textcoords=\"offset points\",ha='center', va='bottom')\n",
    "\n",
    "    plt.tight_layout()\n",
    "    plt.show()\n",
    "brand_options = sorted(df[\"Brand\"].unique())\n",
    "brand_dropdown = widgets.Dropdown(options=brand_options,value=brand_options[0],description=\"Brand:\")\n",
    "\n",
    "def get_models_for_brand(brand):\n",
    "    return sorted(df[df[\"Brand\"] == brand][\"Model\"].unique())\n",
    "initial_models = get_models_for_brand(brand_dropdown.value)\n",
    "model_dropdown = widgets.Dropdown(options=initial_models,value=initial_models[0] if initial_models else None,description=\"Model:\")\n",
    "output = widgets.Output()\n",
    "def update_models(change):\n",
    "    selected_brand = change['new']\n",
    "    models = get_models_for_brand(selected_brand)\n",
    "    model_dropdown.options = models\n",
    "    if models:\n",
    "        model_dropdown.value = models[0]\n",
    "    else:\n",
    "        model_dropdown.value = None\n",
    "\n",
    "brand_dropdown.observe(update_models, names=\"value\")\n",
    "def update_graph(change):\n",
    "    with output:\n",
    "        output.clear_output(wait=True)\n",
    "        plot_mean_distance_by_state(brand_dropdown.value, model_dropdown.value)\n",
    "\n",
    "model_dropdown.observe(update_graph, names=\"value\")\n",
    "display(brand_dropdown, model_dropdown, output)\n"
   ]
  },
  {
   "cell_type": "code",
   "execution_count": null,
   "id": "d31d239c-11b5-4127-8306-d8e43b05e47e",
   "metadata": {},
   "outputs": [],
   "source": []
  }
 ],
 "metadata": {
  "kernelspec": {
   "display_name": "Python 3 (ipykernel)",
   "language": "python",
   "name": "python3"
  },
  "language_info": {
   "codemirror_mode": {
    "name": "ipython",
    "version": 3
   },
   "file_extension": ".py",
   "mimetype": "text/x-python",
   "name": "python",
   "nbconvert_exporter": "python",
   "pygments_lexer": "ipython3",
   "version": "3.12.5"
  }
 },
 "nbformat": 4,
 "nbformat_minor": 5
}
