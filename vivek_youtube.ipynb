{
 "cells": [
  {
   "cell_type": "code",
   "execution_count": 1,
   "id": "5744f651-72e4-4f90-b244-b8ef3469aabf",
   "metadata": {},
   "outputs": [],
   "source": [
    "import pandas as pd #With Pandas, you can perform operations like filtering, aggregating, merging, reshaping, and more on datasets.\n",
    "import numpy as np #is a library for numerical computing in Python. It provides support for large, multi-dimensional arrays and matrices, along with a collection of mathematical functions to operate on these arrays.\n",
    "import seaborn as sns #  is a data visualization library built on top of Matplotlib. It provides a high-level interface for drawing attractive and informative statistical graphics, such as heatmaps, pair plots, bar plots, etc.\n",
    "import matplotlib.pyplot as plt #plt is the common alias used for pyplot. You use it to call functions like plt.plot(), plt.show(), plt.scatter(), etc., to generate visual plots (e.g., line plots, bar charts, histograms).\n"
   ]
  },
  {
   "cell_type": "code",
   "execution_count": 2,
   "id": "80a9af3f-a720-46a5-a8c7-c171daf50967",
   "metadata": {},
   "outputs": [
    {
     "name": "stderr",
     "output_type": "stream",
     "text": [
      "C:\\Users\\ndhar\\AppData\\Local\\Temp\\ipykernel_38988\\2127386720.py:2: DtypeWarning: Columns (2,3) have mixed types. Specify dtype option on import or set low_memory=False.\n",
      "  pd.read_csv(r'C:\\Users\\ndhar\\UScomments.csv',on_bad_lines = 'skip')\n"
     ]
    },
    {
     "data": {
      "text/html": [
       "<div>\n",
       "<style scoped>\n",
       "    .dataframe tbody tr th:only-of-type {\n",
       "        vertical-align: middle;\n",
       "    }\n",
       "\n",
       "    .dataframe tbody tr th {\n",
       "        vertical-align: top;\n",
       "    }\n",
       "\n",
       "    .dataframe thead th {\n",
       "        text-align: right;\n",
       "    }\n",
       "</style>\n",
       "<table border=\"1\" class=\"dataframe\">\n",
       "  <thead>\n",
       "    <tr style=\"text-align: right;\">\n",
       "      <th></th>\n",
       "      <th>video_id</th>\n",
       "      <th>comment_text</th>\n",
       "      <th>likes</th>\n",
       "      <th>replies</th>\n",
       "    </tr>\n",
       "  </thead>\n",
       "  <tbody>\n",
       "    <tr>\n",
       "      <th>0</th>\n",
       "      <td>XpVt6Z1Gjjo</td>\n",
       "      <td>Logan Paul it's yo big day ‼️‼️‼️</td>\n",
       "      <td>4</td>\n",
       "      <td>0</td>\n",
       "    </tr>\n",
       "    <tr>\n",
       "      <th>1</th>\n",
       "      <td>XpVt6Z1Gjjo</td>\n",
       "      <td>I've been following you from the start of your...</td>\n",
       "      <td>3</td>\n",
       "      <td>0</td>\n",
       "    </tr>\n",
       "    <tr>\n",
       "      <th>2</th>\n",
       "      <td>XpVt6Z1Gjjo</td>\n",
       "      <td>Say hi to Kong and maverick for me</td>\n",
       "      <td>3</td>\n",
       "      <td>0</td>\n",
       "    </tr>\n",
       "    <tr>\n",
       "      <th>3</th>\n",
       "      <td>XpVt6Z1Gjjo</td>\n",
       "      <td>MY FAN . attendance</td>\n",
       "      <td>3</td>\n",
       "      <td>0</td>\n",
       "    </tr>\n",
       "    <tr>\n",
       "      <th>4</th>\n",
       "      <td>XpVt6Z1Gjjo</td>\n",
       "      <td>trending 😉</td>\n",
       "      <td>3</td>\n",
       "      <td>0</td>\n",
       "    </tr>\n",
       "    <tr>\n",
       "      <th>...</th>\n",
       "      <td>...</td>\n",
       "      <td>...</td>\n",
       "      <td>...</td>\n",
       "      <td>...</td>\n",
       "    </tr>\n",
       "    <tr>\n",
       "      <th>691395</th>\n",
       "      <td>EoejGgUNmVU</td>\n",
       "      <td>Лучшая</td>\n",
       "      <td>1</td>\n",
       "      <td>0</td>\n",
       "    </tr>\n",
       "    <tr>\n",
       "      <th>691396</th>\n",
       "      <td>EoejGgUNmVU</td>\n",
       "      <td>qu'est ce que j'aimerais que tu viennes à Roan...</td>\n",
       "      <td>0</td>\n",
       "      <td>0</td>\n",
       "    </tr>\n",
       "    <tr>\n",
       "      <th>691397</th>\n",
       "      <td>EoejGgUNmVU</td>\n",
       "      <td>Ven a mexico! 😍 te amo LP</td>\n",
       "      <td>0</td>\n",
       "      <td>0</td>\n",
       "    </tr>\n",
       "    <tr>\n",
       "      <th>691398</th>\n",
       "      <td>EoejGgUNmVU</td>\n",
       "      <td>Islığı yeter...</td>\n",
       "      <td>0</td>\n",
       "      <td>0</td>\n",
       "    </tr>\n",
       "    <tr>\n",
       "      <th>691399</th>\n",
       "      <td>EoejGgUNmVU</td>\n",
       "      <td>Kocham tą piosenkę😍❤❤❤byłam zakochana po uszy ...</td>\n",
       "      <td>0</td>\n",
       "      <td>0</td>\n",
       "    </tr>\n",
       "  </tbody>\n",
       "</table>\n",
       "<p>691400 rows × 4 columns</p>\n",
       "</div>"
      ],
      "text/plain": [
       "           video_id                                       comment_text likes  \\\n",
       "0       XpVt6Z1Gjjo                  Logan Paul it's yo big day ‼️‼️‼️     4   \n",
       "1       XpVt6Z1Gjjo  I've been following you from the start of your...     3   \n",
       "2       XpVt6Z1Gjjo                 Say hi to Kong and maverick for me     3   \n",
       "3       XpVt6Z1Gjjo                                MY FAN . attendance     3   \n",
       "4       XpVt6Z1Gjjo                                         trending 😉     3   \n",
       "...             ...                                                ...   ...   \n",
       "691395  EoejGgUNmVU                                             Лучшая     1   \n",
       "691396  EoejGgUNmVU  qu'est ce que j'aimerais que tu viennes à Roan...     0   \n",
       "691397  EoejGgUNmVU                          Ven a mexico! 😍 te amo LP     0   \n",
       "691398  EoejGgUNmVU                                    Islığı yeter...     0   \n",
       "691399  EoejGgUNmVU  Kocham tą piosenkę😍❤❤❤byłam zakochana po uszy ...     0   \n",
       "\n",
       "       replies  \n",
       "0            0  \n",
       "1            0  \n",
       "2            0  \n",
       "3            0  \n",
       "4            0  \n",
       "...        ...  \n",
       "691395       0  \n",
       "691396       0  \n",
       "691397       0  \n",
       "691398       0  \n",
       "691399       0  \n",
       "\n",
       "[691400 rows x 4 columns]"
      ]
     },
     "execution_count": 2,
     "metadata": {},
     "output_type": "execute_result"
    }
   ],
   "source": [
    "# how to call any file in jupyter ---> 1\n",
    "pd.read_csv(r'C:\\Users\\ndhar\\UScomments.csv',on_bad_lines = 'skip')"
   ]
  },
  {
   "cell_type": "code",
   "execution_count": 3,
   "id": "be5efcc2-7b79-4cc1-a28c-21678280703f",
   "metadata": {},
   "outputs": [],
   "source": [
    "comments = pd.read_csv(r'C:\\Users\\ndhar\\UScomments.csv',on_bad_lines = 'skip',low_memory=False,)\n",
    "\n",
    "#The read_csv function reads data from a CSV (Comma-Separated Values) file and converts it into a Pandas DataFrame—a table-like data structure with rows and columns.\n",
    "#the r before the string denotes a raw string literal. This means that backslashes (\\) in the file path are treated as literal characters rather than as escape characters. This is especially useful on Windows file paths.\n",
    "#By setting on_bad_lines='skip', any problematic lines that cause parsing issues will be skipped (i.e., ignored) rather than causing the program to crash or throw an error.\n",
    "#Setting low_memory=False tells Pandas to process the file in one go rather than in smaller chunks. This can lead to more accurate type inference but might require more memory.\n",
    "\n",
    "\n"
   ]
  },
  {
   "cell_type": "code",
   "execution_count": 4,
   "id": "065e5949-77f2-41e8-bcec-e30040639fcf",
   "metadata": {},
   "outputs": [
    {
     "data": {
      "text/html": [
       "<div>\n",
       "<style scoped>\n",
       "    .dataframe tbody tr th:only-of-type {\n",
       "        vertical-align: middle;\n",
       "    }\n",
       "\n",
       "    .dataframe tbody tr th {\n",
       "        vertical-align: top;\n",
       "    }\n",
       "\n",
       "    .dataframe thead th {\n",
       "        text-align: right;\n",
       "    }\n",
       "</style>\n",
       "<table border=\"1\" class=\"dataframe\">\n",
       "  <thead>\n",
       "    <tr style=\"text-align: right;\">\n",
       "      <th></th>\n",
       "      <th>video_id</th>\n",
       "      <th>comment_text</th>\n",
       "      <th>likes</th>\n",
       "      <th>replies</th>\n",
       "    </tr>\n",
       "  </thead>\n",
       "  <tbody>\n",
       "    <tr>\n",
       "      <th>0</th>\n",
       "      <td>XpVt6Z1Gjjo</td>\n",
       "      <td>Logan Paul it's yo big day ‼️‼️‼️</td>\n",
       "      <td>4</td>\n",
       "      <td>0</td>\n",
       "    </tr>\n",
       "    <tr>\n",
       "      <th>1</th>\n",
       "      <td>XpVt6Z1Gjjo</td>\n",
       "      <td>I've been following you from the start of your...</td>\n",
       "      <td>3</td>\n",
       "      <td>0</td>\n",
       "    </tr>\n",
       "    <tr>\n",
       "      <th>2</th>\n",
       "      <td>XpVt6Z1Gjjo</td>\n",
       "      <td>Say hi to Kong and maverick for me</td>\n",
       "      <td>3</td>\n",
       "      <td>0</td>\n",
       "    </tr>\n",
       "    <tr>\n",
       "      <th>3</th>\n",
       "      <td>XpVt6Z1Gjjo</td>\n",
       "      <td>MY FAN . attendance</td>\n",
       "      <td>3</td>\n",
       "      <td>0</td>\n",
       "    </tr>\n",
       "    <tr>\n",
       "      <th>4</th>\n",
       "      <td>XpVt6Z1Gjjo</td>\n",
       "      <td>trending 😉</td>\n",
       "      <td>3</td>\n",
       "      <td>0</td>\n",
       "    </tr>\n",
       "  </tbody>\n",
       "</table>\n",
       "</div>"
      ],
      "text/plain": [
       "      video_id                                       comment_text likes  \\\n",
       "0  XpVt6Z1Gjjo                  Logan Paul it's yo big day ‼️‼️‼️     4   \n",
       "1  XpVt6Z1Gjjo  I've been following you from the start of your...     3   \n",
       "2  XpVt6Z1Gjjo                 Say hi to Kong and maverick for me     3   \n",
       "3  XpVt6Z1Gjjo                                MY FAN . attendance     3   \n",
       "4  XpVt6Z1Gjjo                                         trending 😉     3   \n",
       "\n",
       "  replies  \n",
       "0       0  \n",
       "1       0  \n",
       "2       0  \n",
       "3       0  \n",
       "4       0  "
      ]
     },
     "execution_count": 4,
     "metadata": {},
     "output_type": "execute_result"
    }
   ],
   "source": [
    "comments.head(5) \n"
   ]
  },
  {
   "cell_type": "code",
   "execution_count": 5,
   "id": "14b8647e-3a41-4c4a-9b11-45f19e476f4d",
   "metadata": {},
   "outputs": [
    {
     "data": {
      "text/plain": [
       "video_id         0\n",
       "comment_text    26\n",
       "likes            0\n",
       "replies          0\n",
       "dtype: int64"
      ]
     },
     "execution_count": 5,
     "metadata": {},
     "output_type": "execute_result"
    }
   ],
   "source": [
    "comments.isnull().sum()\n",
    "\n",
    "\n",
    "#Output: A new DataFrame of the same shape as comments where each cell is a Boolean value:\n",
    "#True if the corresponding cell in comments is null (i.e., missing).\n",
    "#False if the cell has a valid value.\n",
    "#The .sum() method is then applied to this Boolean DataFrame. This method sums up the True values (with True equal to 1) for each column, resulting in a Series. Each value in this Series represents the number of missing values in the corresponding column of comments."
   ]
  },
  {
   "cell_type": "code",
   "execution_count": 6,
   "id": "27f846b1-6a56-436a-bec9-9ccb296feda6",
   "metadata": {},
   "outputs": [
    {
     "data": {
      "text/plain": [
       "video_id        0\n",
       "comment_text    0\n",
       "likes           0\n",
       "replies         0\n",
       "dtype: int64"
      ]
     },
     "execution_count": 6,
     "metadata": {},
     "output_type": "execute_result"
    }
   ],
   "source": [
    "comments.dropna(inplace=True)\n",
    "comments.isnull().sum()\n",
    "#By default, dropna() examines each row (i.e., axis=0) and removes any row that has at least one missing value.\n",
    "# The inplace=True parameter tells Pandas to modify the existing DataFrame directly, rather than returning a new DataFrame with the rows removed."
   ]
  },
  {
   "cell_type": "code",
   "execution_count": 7,
   "id": "1cd5eeaa-e65e-4c66-b382-5eefc4fa45a9",
   "metadata": {},
   "outputs": [],
   "source": [
    "# how to perform sentiment analysis --> 2"
   ]
  },
  {
   "cell_type": "code",
   "execution_count": 8,
   "id": "51083d94-365c-434c-888a-03ec4f5550ee",
   "metadata": {},
   "outputs": [],
   "source": [
    "from textblob import TextBlob\n",
    "polarities = [] #An empty list named polarity is created.\n",
    "for i in comments['comment_text']: #This line starts a loop over the comment_text column in the comments DataFrame.\n",
    "    try:\n",
    "        polarities.append(TextBlob(i).sentiment.polarity)\n",
    "    except:\n",
    "        polarities.append(0)\n",
    "        \n",
    "#the code calculates the sentiment polarity for each comment in the comment_text column of the comments DataFrame."
   ]
  },
  {
   "cell_type": "code",
   "execution_count": 9,
   "id": "900d78f7-8a31-4400-88f3-b618eeb0a46e",
   "metadata": {},
   "outputs": [],
   "source": [
    "#The TextBlob library is used for natural language processing tasks, including sentiment analysis.\n",
    "#This is likely meant to be TextBlob(i) (note the spelling), which creates a TextBlob object from the comment text.\n",
    "#Once the TextBlob object is created, the .sentiment attribute returns a sentiment object.\n",
    "# .polarity attribute of this sentiment object is a float between -1 and 1\n",
    "#Inside the except Block:If any error occurs during the sentiment analysis (for example, if the text is empty or there's a processing error), the code moves to the except block.\n",
    "#In this case, it appends 0 to the polarity list, assuming a neutral sentiment when processing fails.\n"
   ]
  },
  {
   "cell_type": "code",
   "execution_count": 10,
   "id": "08a35eac-85bd-49a4-a43e-cc7c930bb816",
   "metadata": {},
   "outputs": [
    {
     "data": {
      "text/plain": [
       "(1000, 4)"
      ]
     },
     "execution_count": 10,
     "metadata": {},
     "output_type": "execute_result"
    }
   ],
   "source": [
    "#sometime date is huge then select limited data \n",
    "\n",
    "sample_df = comments[0:1000] \n",
    "#This part uses Python's slicing syntax on the comments DataFrame. It selects rows starting from index 0 up to, but not including, index 1000.\n",
    "sample_df.shape"
   ]
  },
  {
   "cell_type": "code",
   "execution_count": 11,
   "id": "413ffc05-f864-4507-99e6-0946cb57edce",
   "metadata": {},
   "outputs": [
    {
     "data": {
      "text/html": [
       "<div>\n",
       "<style scoped>\n",
       "    .dataframe tbody tr th:only-of-type {\n",
       "        vertical-align: middle;\n",
       "    }\n",
       "\n",
       "    .dataframe tbody tr th {\n",
       "        vertical-align: top;\n",
       "    }\n",
       "\n",
       "    .dataframe thead th {\n",
       "        text-align: right;\n",
       "    }\n",
       "</style>\n",
       "<table border=\"1\" class=\"dataframe\">\n",
       "  <thead>\n",
       "    <tr style=\"text-align: right;\">\n",
       "      <th></th>\n",
       "      <th>video_id</th>\n",
       "      <th>comment_text</th>\n",
       "      <th>likes</th>\n",
       "      <th>replies</th>\n",
       "      <th>sentiment</th>\n",
       "    </tr>\n",
       "  </thead>\n",
       "  <tbody>\n",
       "    <tr>\n",
       "      <th>0</th>\n",
       "      <td>XpVt6Z1Gjjo</td>\n",
       "      <td>Logan Paul it's yo big day ‼️‼️‼️</td>\n",
       "      <td>4</td>\n",
       "      <td>0</td>\n",
       "      <td>0.000000</td>\n",
       "    </tr>\n",
       "    <tr>\n",
       "      <th>1</th>\n",
       "      <td>XpVt6Z1Gjjo</td>\n",
       "      <td>I've been following you from the start of your...</td>\n",
       "      <td>3</td>\n",
       "      <td>0</td>\n",
       "      <td>0.000000</td>\n",
       "    </tr>\n",
       "    <tr>\n",
       "      <th>2</th>\n",
       "      <td>XpVt6Z1Gjjo</td>\n",
       "      <td>Say hi to Kong and maverick for me</td>\n",
       "      <td>3</td>\n",
       "      <td>0</td>\n",
       "      <td>0.000000</td>\n",
       "    </tr>\n",
       "    <tr>\n",
       "      <th>3</th>\n",
       "      <td>XpVt6Z1Gjjo</td>\n",
       "      <td>MY FAN . attendance</td>\n",
       "      <td>3</td>\n",
       "      <td>0</td>\n",
       "      <td>0.000000</td>\n",
       "    </tr>\n",
       "    <tr>\n",
       "      <th>4</th>\n",
       "      <td>XpVt6Z1Gjjo</td>\n",
       "      <td>trending 😉</td>\n",
       "      <td>3</td>\n",
       "      <td>0</td>\n",
       "      <td>0.000000</td>\n",
       "    </tr>\n",
       "    <tr>\n",
       "      <th>5</th>\n",
       "      <td>XpVt6Z1Gjjo</td>\n",
       "      <td>#1 on trending AYYEEEEE</td>\n",
       "      <td>3</td>\n",
       "      <td>0</td>\n",
       "      <td>0.000000</td>\n",
       "    </tr>\n",
       "    <tr>\n",
       "      <th>6</th>\n",
       "      <td>XpVt6Z1Gjjo</td>\n",
       "      <td>The end though 😭👍🏻❤️</td>\n",
       "      <td>4</td>\n",
       "      <td>0</td>\n",
       "      <td>0.000000</td>\n",
       "    </tr>\n",
       "    <tr>\n",
       "      <th>7</th>\n",
       "      <td>XpVt6Z1Gjjo</td>\n",
       "      <td>#1 trending!!!!!!!!!</td>\n",
       "      <td>3</td>\n",
       "      <td>0</td>\n",
       "      <td>0.000000</td>\n",
       "    </tr>\n",
       "    <tr>\n",
       "      <th>8</th>\n",
       "      <td>XpVt6Z1Gjjo</td>\n",
       "      <td>Happy one year vlogaversary</td>\n",
       "      <td>3</td>\n",
       "      <td>0</td>\n",
       "      <td>0.800000</td>\n",
       "    </tr>\n",
       "    <tr>\n",
       "      <th>9</th>\n",
       "      <td>XpVt6Z1Gjjo</td>\n",
       "      <td>You and your shit brother may have single hand...</td>\n",
       "      <td>0</td>\n",
       "      <td>0</td>\n",
       "      <td>-0.135714</td>\n",
       "    </tr>\n",
       "    <tr>\n",
       "      <th>10</th>\n",
       "      <td>XpVt6Z1Gjjo</td>\n",
       "      <td>There should be a mini Logan Paul too!</td>\n",
       "      <td>0</td>\n",
       "      <td>0</td>\n",
       "      <td>0.000000</td>\n",
       "    </tr>\n",
       "    <tr>\n",
       "      <th>11</th>\n",
       "      <td>XpVt6Z1Gjjo</td>\n",
       "      <td>Dear Logan, I really wanna get your Merch but ...</td>\n",
       "      <td>0</td>\n",
       "      <td>0</td>\n",
       "      <td>0.200000</td>\n",
       "    </tr>\n",
       "    <tr>\n",
       "      <th>12</th>\n",
       "      <td>XpVt6Z1Gjjo</td>\n",
       "      <td>Honestly Evan is so annoying. Like its not fun...</td>\n",
       "      <td>0</td>\n",
       "      <td>0</td>\n",
       "      <td>-0.023333</td>\n",
       "    </tr>\n",
       "    <tr>\n",
       "      <th>13</th>\n",
       "      <td>XpVt6Z1Gjjo</td>\n",
       "      <td>Casey is still better then logan</td>\n",
       "      <td>0</td>\n",
       "      <td>0</td>\n",
       "      <td>0.500000</td>\n",
       "    </tr>\n",
       "    <tr>\n",
       "      <th>14</th>\n",
       "      <td>XpVt6Z1Gjjo</td>\n",
       "      <td>aw geez rick this guy is the face of YouTube.</td>\n",
       "      <td>0</td>\n",
       "      <td>0</td>\n",
       "      <td>0.000000</td>\n",
       "    </tr>\n",
       "    <tr>\n",
       "      <th>15</th>\n",
       "      <td>XpVt6Z1Gjjo</td>\n",
       "      <td>He happy cause he in a movie</td>\n",
       "      <td>0</td>\n",
       "      <td>0</td>\n",
       "      <td>0.800000</td>\n",
       "    </tr>\n",
       "    <tr>\n",
       "      <th>16</th>\n",
       "      <td>XpVt6Z1Gjjo</td>\n",
       "      <td>Ayyyyoooo Logang what up .  This was a hard vl...</td>\n",
       "      <td>1</td>\n",
       "      <td>0</td>\n",
       "      <td>-0.291667</td>\n",
       "    </tr>\n",
       "    <tr>\n",
       "      <th>17</th>\n",
       "      <td>XpVt6Z1Gjjo</td>\n",
       "      <td>Bro y didnt u give merch to johannes he is ur ...</td>\n",
       "      <td>0</td>\n",
       "      <td>0</td>\n",
       "      <td>0.000000</td>\n",
       "    </tr>\n",
       "    <tr>\n",
       "      <th>18</th>\n",
       "      <td>XpVt6Z1Gjjo</td>\n",
       "      <td>It's been fun watching you grow. I'm at 42 day...</td>\n",
       "      <td>3</td>\n",
       "      <td>0</td>\n",
       "      <td>0.250000</td>\n",
       "    </tr>\n",
       "    <tr>\n",
       "      <th>19</th>\n",
       "      <td>XpVt6Z1Gjjo</td>\n",
       "      <td>Made a lot of people hate youtube - GJ</td>\n",
       "      <td>0</td>\n",
       "      <td>0</td>\n",
       "      <td>-0.800000</td>\n",
       "    </tr>\n",
       "  </tbody>\n",
       "</table>\n",
       "</div>"
      ],
      "text/plain": [
       "       video_id                                       comment_text likes  \\\n",
       "0   XpVt6Z1Gjjo                  Logan Paul it's yo big day ‼️‼️‼️     4   \n",
       "1   XpVt6Z1Gjjo  I've been following you from the start of your...     3   \n",
       "2   XpVt6Z1Gjjo                 Say hi to Kong and maverick for me     3   \n",
       "3   XpVt6Z1Gjjo                                MY FAN . attendance     3   \n",
       "4   XpVt6Z1Gjjo                                         trending 😉     3   \n",
       "5   XpVt6Z1Gjjo                            #1 on trending AYYEEEEE     3   \n",
       "6   XpVt6Z1Gjjo                               The end though 😭👍🏻❤️     4   \n",
       "7   XpVt6Z1Gjjo                               #1 trending!!!!!!!!!     3   \n",
       "8   XpVt6Z1Gjjo                        Happy one year vlogaversary     3   \n",
       "9   XpVt6Z1Gjjo  You and your shit brother may have single hand...     0   \n",
       "10  XpVt6Z1Gjjo             There should be a mini Logan Paul too!     0   \n",
       "11  XpVt6Z1Gjjo  Dear Logan, I really wanna get your Merch but ...     0   \n",
       "12  XpVt6Z1Gjjo  Honestly Evan is so annoying. Like its not fun...     0   \n",
       "13  XpVt6Z1Gjjo                   Casey is still better then logan     0   \n",
       "14  XpVt6Z1Gjjo      aw geez rick this guy is the face of YouTube.     0   \n",
       "15  XpVt6Z1Gjjo                       He happy cause he in a movie     0   \n",
       "16  XpVt6Z1Gjjo  Ayyyyoooo Logang what up .  This was a hard vl...     1   \n",
       "17  XpVt6Z1Gjjo  Bro y didnt u give merch to johannes he is ur ...     0   \n",
       "18  XpVt6Z1Gjjo  It's been fun watching you grow. I'm at 42 day...     3   \n",
       "19  XpVt6Z1Gjjo             Made a lot of people hate youtube - GJ     0   \n",
       "\n",
       "   replies  sentiment  \n",
       "0        0   0.000000  \n",
       "1        0   0.000000  \n",
       "2        0   0.000000  \n",
       "3        0   0.000000  \n",
       "4        0   0.000000  \n",
       "5        0   0.000000  \n",
       "6        0   0.000000  \n",
       "7        0   0.000000  \n",
       "8        0   0.800000  \n",
       "9        0  -0.135714  \n",
       "10       0   0.000000  \n",
       "11       0   0.200000  \n",
       "12       0  -0.023333  \n",
       "13       0   0.500000  \n",
       "14       0   0.000000  \n",
       "15       0   0.800000  \n",
       "16       0  -0.291667  \n",
       "17       0   0.000000  \n",
       "18       0   0.250000  \n",
       "19       0  -0.800000  "
      ]
     },
     "execution_count": 11,
     "metadata": {},
     "output_type": "execute_result"
    }
   ],
   "source": [
    "comments['sentiment']=polarities \n",
    "#What It Does: Adds a new column named 'sentiment' to the comments DataFrame and fills it with the values from the polarities list.\n",
    "comments.head(20)"
   ]
  },
  {
   "cell_type": "code",
   "execution_count": 12,
   "id": "9a15fc91-f1a3-4c9b-90e1-617441f28c7a",
   "metadata": {},
   "outputs": [],
   "source": [
    "filter1 = comments['sentiment']==1"
   ]
  },
  {
   "cell_type": "code",
   "execution_count": 13,
   "id": "83ac9ccd-64b4-4949-b8dc-746ee7458634",
   "metadata": {},
   "outputs": [
    {
     "data": {
      "text/html": [
       "<div>\n",
       "<style scoped>\n",
       "    .dataframe tbody tr th:only-of-type {\n",
       "        vertical-align: middle;\n",
       "    }\n",
       "\n",
       "    .dataframe tbody tr th {\n",
       "        vertical-align: top;\n",
       "    }\n",
       "\n",
       "    .dataframe thead th {\n",
       "        text-align: right;\n",
       "    }\n",
       "</style>\n",
       "<table border=\"1\" class=\"dataframe\">\n",
       "  <thead>\n",
       "    <tr style=\"text-align: right;\">\n",
       "      <th></th>\n",
       "      <th>video_id</th>\n",
       "      <th>comment_text</th>\n",
       "      <th>likes</th>\n",
       "      <th>replies</th>\n",
       "      <th>sentiment</th>\n",
       "    </tr>\n",
       "  </thead>\n",
       "  <tbody>\n",
       "    <tr>\n",
       "      <th>64</th>\n",
       "      <td>XpVt6Z1Gjjo</td>\n",
       "      <td>yu are the best</td>\n",
       "      <td>1</td>\n",
       "      <td>0</td>\n",
       "      <td>1.0</td>\n",
       "    </tr>\n",
       "    <tr>\n",
       "      <th>156</th>\n",
       "      <td>cLdxuaxaQwc</td>\n",
       "      <td>Power is the disease.  Care is the cure.  Keep...</td>\n",
       "      <td>0</td>\n",
       "      <td>0</td>\n",
       "      <td>1.0</td>\n",
       "    </tr>\n",
       "    <tr>\n",
       "      <th>227</th>\n",
       "      <td>WYYvHb03Eog</td>\n",
       "      <td>YAS Can't wait to get it! I just need to sell ...</td>\n",
       "      <td>0</td>\n",
       "      <td>0</td>\n",
       "      <td>1.0</td>\n",
       "    </tr>\n",
       "    <tr>\n",
       "      <th>307</th>\n",
       "      <td>sjlHnJvXdQs</td>\n",
       "      <td>This is priceless</td>\n",
       "      <td>0</td>\n",
       "      <td>0</td>\n",
       "      <td>1.0</td>\n",
       "    </tr>\n",
       "    <tr>\n",
       "      <th>319</th>\n",
       "      <td>sjlHnJvXdQs</td>\n",
       "      <td>Summed up perfectly</td>\n",
       "      <td>0</td>\n",
       "      <td>0</td>\n",
       "      <td>1.0</td>\n",
       "    </tr>\n",
       "    <tr>\n",
       "      <th>...</th>\n",
       "      <td>...</td>\n",
       "      <td>...</td>\n",
       "      <td>...</td>\n",
       "      <td>...</td>\n",
       "      <td>...</td>\n",
       "    </tr>\n",
       "    <tr>\n",
       "      <th>691373</th>\n",
       "      <td>EoejGgUNmVU</td>\n",
       "      <td>Perfect. Every version</td>\n",
       "      <td>0</td>\n",
       "      <td>0</td>\n",
       "      <td>1.0</td>\n",
       "    </tr>\n",
       "    <tr>\n",
       "      <th>691383</th>\n",
       "      <td>EoejGgUNmVU</td>\n",
       "      <td>Me encantaaaaa &lt;3</td>\n",
       "      <td>0</td>\n",
       "      <td>0</td>\n",
       "      <td>1.0</td>\n",
       "    </tr>\n",
       "    <tr>\n",
       "      <th>691388</th>\n",
       "      <td>EoejGgUNmVU</td>\n",
       "      <td>Best song ever 🤘</td>\n",
       "      <td>0</td>\n",
       "      <td>0</td>\n",
       "      <td>1.0</td>\n",
       "    </tr>\n",
       "    <tr>\n",
       "      <th>691389</th>\n",
       "      <td>EoejGgUNmVU</td>\n",
       "      <td>excellent performance</td>\n",
       "      <td>0</td>\n",
       "      <td>0</td>\n",
       "      <td>1.0</td>\n",
       "    </tr>\n",
       "    <tr>\n",
       "      <th>691393</th>\n",
       "      <td>EoejGgUNmVU</td>\n",
       "      <td>&lt;3</td>\n",
       "      <td>0</td>\n",
       "      <td>0</td>\n",
       "      <td>1.0</td>\n",
       "    </tr>\n",
       "  </tbody>\n",
       "</table>\n",
       "<p>19390 rows × 5 columns</p>\n",
       "</div>"
      ],
      "text/plain": [
       "           video_id                                       comment_text likes  \\\n",
       "64      XpVt6Z1Gjjo                                    yu are the best     1   \n",
       "156     cLdxuaxaQwc  Power is the disease.  Care is the cure.  Keep...     0   \n",
       "227     WYYvHb03Eog  YAS Can't wait to get it! I just need to sell ...     0   \n",
       "307     sjlHnJvXdQs                                  This is priceless     0   \n",
       "319     sjlHnJvXdQs                                Summed up perfectly     0   \n",
       "...             ...                                                ...   ...   \n",
       "691373  EoejGgUNmVU                             Perfect. Every version     0   \n",
       "691383  EoejGgUNmVU                                  Me encantaaaaa <3     0   \n",
       "691388  EoejGgUNmVU                                   Best song ever 🤘     0   \n",
       "691389  EoejGgUNmVU                              excellent performance     0   \n",
       "691393  EoejGgUNmVU                                                 <3     0   \n",
       "\n",
       "       replies  sentiment  \n",
       "64           0        1.0  \n",
       "156          0        1.0  \n",
       "227          0        1.0  \n",
       "307          0        1.0  \n",
       "319          0        1.0  \n",
       "...        ...        ...  \n",
       "691373       0        1.0  \n",
       "691383       0        1.0  \n",
       "691388       0        1.0  \n",
       "691389       0        1.0  \n",
       "691393       0        1.0  \n",
       "\n",
       "[19390 rows x 5 columns]"
      ]
     },
     "execution_count": 13,
     "metadata": {},
     "output_type": "execute_result"
    }
   ],
   "source": [
    "comments[filter1]"
   ]
  },
  {
   "cell_type": "code",
   "execution_count": 14,
   "id": "de13b471-63f3-4049-b8a7-52488b5f3482",
   "metadata": {},
   "outputs": [],
   "source": [
    "#how to do emoji analysis ---> 3 "
   ]
  },
  {
   "cell_type": "code",
   "execution_count": 15,
   "id": "5fa2057b-ecd1-45f1-859c-84190a6dab08",
   "metadata": {},
   "outputs": [],
   "source": [
    "import emoji"
   ]
  },
  {
   "cell_type": "code",
   "execution_count": 16,
   "id": "bd480814-1de7-4249-9f41-e67e39696dcf",
   "metadata": {},
   "outputs": [],
   "source": [
    "emoji_list = []  # 1. Initialize an empty list to store emojis.\n",
    "\n",
    "# 2. Loop over each comment in the 'comment_text' column of the DataFrame 'comments'.\n",
    "for comment in comments['comment_text']:\n",
    "    # 3. Loop over every character in the current comment.\n",
    "    for char in comment:\n",
    "        if char in emoji.EMOJI_DATA:\n",
    "            emoji_list.append(char)\n"
   ]
  },
  {
   "cell_type": "code",
   "execution_count": 17,
   "id": "be96187a-cf6e-468e-801a-6a81c609b779",
   "metadata": {},
   "outputs": [
    {
     "data": {
      "text/plain": [
       "['‼', '‼', '‼', '😉', '😭', '👍', '🏻', '❤', '😍', '💋']"
      ]
     },
     "execution_count": 17,
     "metadata": {},
     "output_type": "execute_result"
    }
   ],
   "source": [
    "emoji_list[0:10]"
   ]
  },
  {
   "cell_type": "code",
   "execution_count": 18,
   "id": "fee3bf2c-79d4-4a41-9f67-e28aea3a8100",
   "metadata": {},
   "outputs": [
    {
     "data": {
      "text/plain": [
       "[('😂', 36987),\n",
       " ('😍', 33453),\n",
       " ('❤', 31119),\n",
       " ('🔥', 8694),\n",
       " ('😭', 8398),\n",
       " ('👏', 5719),\n",
       " ('😘', 5545),\n",
       " ('👍', 5476),\n",
       " ('💖', 5359),\n",
       " ('💕', 5147),\n",
       " ('♥', 4909),\n",
       " ('😊', 3596),\n",
       " ('🏻', 3438),\n",
       " ('💜', 3429),\n",
       " ('😬', 3381),\n",
       " ('👌', 3112),\n",
       " ('💙', 2831),\n",
       " ('😢', 2672),\n",
       " ('🏼', 2549),\n",
       " ('🤣', 2279),\n",
       " ('🙌', 2233),\n",
       " ('😁', 2220),\n",
       " ('💗', 2144),\n",
       " ('😱', 2094),\n",
       " ('🙏', 1818),\n",
       " ('🌍', 1810),\n",
       " ('😀', 1734),\n",
       " ('💛', 1677),\n",
       " ('🏽', 1593),\n",
       " ('🤔', 1592)]"
      ]
     },
     "execution_count": 18,
     "metadata": {},
     "output_type": "execute_result"
    }
   ],
   "source": [
    "from collections import Counter\n",
    "#The Counter class is a specialized dictionary designed to count hashable objects. It makes it easy to count how many times each element appears in a collection, such as a list.\n",
    "Counter(emoji_list).most_common(30)\n",
    "#This method is called on the Counter object. The most_common(10) method returns a list of the 10 most frequent elements in the Counter, along with their counts.\n"
   ]
  },
  {
   "cell_type": "code",
   "execution_count": 19,
   "id": "756d7c34-7f81-46c6-a4be-787eb3cc5ae3",
   "metadata": {},
   "outputs": [],
   "source": [
    "#collection of entire data --> 4"
   ]
  },
  {
   "cell_type": "code",
   "execution_count": 20,
   "id": "66029fd7-c6bb-4db6-a862-90579f922fa2",
   "metadata": {},
   "outputs": [
    {
     "data": {
      "text/plain": [
       "['.ipynb_checkpoints',\n",
       " 'CAvideos.csv',\n",
       " 'CA_category_id.json',\n",
       " 'DEvideos.csv',\n",
       " 'DE_category_id.json',\n",
       " 'filtered_data.xlsx',\n",
       " 'FRvideos.csv',\n",
       " 'FR_category_id.json',\n",
       " 'GBvideos.csv',\n",
       " 'GB_category_id.json',\n",
       " 'INvideos.csv',\n",
       " 'IN_category_id.json',\n",
       " 'JPvideos.csv',\n",
       " 'JP_category_id.json',\n",
       " 'KRvideos.csv',\n",
       " 'KR_category_id.json',\n",
       " 'MXvideos.csv',\n",
       " 'MX_category_id.json',\n",
       " 'RUvideos.csv',\n",
       " 'RU_category_id.json',\n",
       " 'USvideos.csv',\n",
       " 'US_category_id.json']"
      ]
     },
     "execution_count": 20,
     "metadata": {},
     "output_type": "execute_result"
    }
   ],
   "source": [
    "import os\n",
    "#Once imported, you have access to a wide range of functions and variables that allow you to interact with the operating system. Some common functionalities include:\n",
    "os.listdir(r'C:\\Users\\ndhar\\additional_data')#List files and directories in a given directory."
   ]
  },
  {
   "cell_type": "code",
   "execution_count": 21,
   "id": "bb202e7b-59ae-404c-a3a2-8a2590fbe150",
   "metadata": {},
   "outputs": [],
   "source": [
    "files = os.listdir(r'C:\\Users\\ndhar\\additional_data')"
   ]
  },
  {
   "cell_type": "code",
   "execution_count": 22,
   "id": "ec8a9583-d609-44b9-9759-2810b3ec2b60",
   "metadata": {},
   "outputs": [],
   "source": [
    "files_csv = [file for file in files if '.csv' in file ]"
   ]
  },
  {
   "cell_type": "code",
   "execution_count": 23,
   "id": "4132745c-f6de-4389-bf47-cd16ceaa640b",
   "metadata": {},
   "outputs": [
    {
     "data": {
      "text/plain": [
       "['CAvideos.csv',\n",
       " 'DEvideos.csv',\n",
       " 'FRvideos.csv',\n",
       " 'GBvideos.csv',\n",
       " 'INvideos.csv',\n",
       " 'JPvideos.csv',\n",
       " 'KRvideos.csv',\n",
       " 'MXvideos.csv',\n",
       " 'RUvideos.csv',\n",
       " 'USvideos.csv']"
      ]
     },
     "execution_count": 23,
     "metadata": {},
     "output_type": "execute_result"
    }
   ],
   "source": [
    "files_csv"
   ]
  },
  {
   "cell_type": "code",
   "execution_count": 24,
   "id": "14b53a6e-35b7-4c25-aa61-24c5f1b6e3ec",
   "metadata": {},
   "outputs": [],
   "source": [
    "import warnings #The first line imports the entire warnings module.\n",
    "from warnings import filterwarnings #The second line imports the filterwarnings function from the warnings module.\n",
    "filterwarnings('ignore')\n",
    "# This can be useful during development or in production when you want to hide non-critical warnings, but be cautious—suppressing warnings might cause you to miss important alerts about deprecated features or other issues.\n"
   ]
  },
  {
   "cell_type": "code",
   "execution_count": 25,
   "id": "814fe6f8-1a62-4715-8575-259e973fc938",
   "metadata": {},
   "outputs": [],
   "source": [
    "#what is pseudocode? --> 5"
   ]
  },
  {
   "cell_type": "code",
   "execution_count": 26,
   "id": "d4ea0e76-6707-4130-b6a6-15fc61b0c6e2",
   "metadata": {},
   "outputs": [],
   "source": [
    "full_df= pd.DataFrame() #This creates an empty Pandas DataFrame named full_df.\n",
    "#You plan to use this DataFrame to accumulate data from multiple CSV files. Each file's data will be added (concatenated) to this DataFrame.\n",
    "path = r'C:\\Users\\ndhar\\additional_data'\n",
    "#This line sets the variable path to the directory where your CSV files are stored.\n",
    "for file in files_csv:#files_csv is assumed to be a list of CSV file names (for example, ['data1.csv', 'data2.csv', ...]).\n",
    "    current_df = pd.read_csv(path+'/'+file, encoding ='iso-8859-1',on_bad_lines = 'skip')\n",
    "    full_df = pd.concat([full_df,current_df],ignore_index=True)\n",
    "#pd.read_csv(...) reads the CSV file into a new DataFrame called current_df.\n",
    "#The full path for each CSV file is built by concatenating path, a forward slash '/', and the file name stored in file.\n"
   ]
  },
  {
   "cell_type": "code",
   "execution_count": 27,
   "id": "5eabe0a9-558f-480f-9ea2-6cdeacff1f43",
   "metadata": {},
   "outputs": [
    {
     "data": {
      "text/plain": [
       "(375942, 16)"
      ]
     },
     "execution_count": 27,
     "metadata": {},
     "output_type": "execute_result"
    }
   ],
   "source": [
    "full_df.shape"
   ]
  },
  {
   "cell_type": "code",
   "execution_count": 28,
   "id": "090fafea-9be0-4fc3-ba5d-3221ed5b0477",
   "metadata": {},
   "outputs": [
    {
     "data": {
      "text/plain": [
       "(36417, 16)"
      ]
     },
     "execution_count": 28,
     "metadata": {},
     "output_type": "execute_result"
    }
   ],
   "source": [
    "full_df[full_df.duplicated()].shape\n",
    "#"
   ]
  },
  {
   "cell_type": "code",
   "execution_count": 29,
   "id": "7bf627ca-085a-4082-94c7-70f24187db20",
   "metadata": {},
   "outputs": [],
   "source": [
    "full_df= full_df.drop_duplicates()"
   ]
  },
  {
   "cell_type": "code",
   "execution_count": 30,
   "id": "2615b973-5784-42c6-8662-f5504d012a4f",
   "metadata": {},
   "outputs": [
    {
     "data": {
      "text/plain": [
       "(339525, 16)"
      ]
     },
     "execution_count": 30,
     "metadata": {},
     "output_type": "execute_result"
    }
   ],
   "source": [
    "full_df.shape"
   ]
  },
  {
   "cell_type": "code",
   "execution_count": 31,
   "id": "1173105b-df43-479f-bfb9-77841fe4ea69",
   "metadata": {},
   "outputs": [],
   "source": [
    "#How to tranform your file into other format --> 6"
   ]
  },
  {
   "cell_type": "code",
   "execution_count": 68,
   "id": "c9dfbca9-e284-4b45-aa9e-c5ee77af0893",
   "metadata": {},
   "outputs": [
    {
     "data": {
      "text/html": [
       "<div>\n",
       "<style scoped>\n",
       "    .dataframe tbody tr th:only-of-type {\n",
       "        vertical-align: middle;\n",
       "    }\n",
       "\n",
       "    .dataframe tbody tr th {\n",
       "        vertical-align: top;\n",
       "    }\n",
       "\n",
       "    .dataframe thead th {\n",
       "        text-align: right;\n",
       "    }\n",
       "</style>\n",
       "<table border=\"1\" class=\"dataframe\">\n",
       "  <thead>\n",
       "    <tr style=\"text-align: right;\">\n",
       "      <th></th>\n",
       "      <th>video_id</th>\n",
       "      <th>trending_date</th>\n",
       "      <th>title</th>\n",
       "      <th>channel_title</th>\n",
       "      <th>category_id</th>\n",
       "      <th>publish_time</th>\n",
       "      <th>tags</th>\n",
       "      <th>views</th>\n",
       "      <th>likes</th>\n",
       "      <th>dislikes</th>\n",
       "      <th>...</th>\n",
       "      <th>comments_disabled</th>\n",
       "      <th>ratings_disabled</th>\n",
       "      <th>video_error_or_removed</th>\n",
       "      <th>description</th>\n",
       "      <th>category_name</th>\n",
       "      <th>like-rate</th>\n",
       "      <th>dislike-rate</th>\n",
       "      <th>comment_rate</th>\n",
       "      <th>like_rate</th>\n",
       "      <th>dislike_rate</th>\n",
       "    </tr>\n",
       "  </thead>\n",
       "  <tbody>\n",
       "    <tr>\n",
       "      <th>0</th>\n",
       "      <td>n1WpP7iowLc</td>\n",
       "      <td>17.14.11</td>\n",
       "      <td>Eminem - Walk On Water (Audio) ft. BeyoncÃ©</td>\n",
       "      <td>EminemVEVO</td>\n",
       "      <td>10</td>\n",
       "      <td>2017-11-10T17:00:03.000Z</td>\n",
       "      <td>Eminem|\"Walk\"|\"On\"|\"Water\"|\"Aftermath/Shady/In...</td>\n",
       "      <td>17158579</td>\n",
       "      <td>787425</td>\n",
       "      <td>43420</td>\n",
       "      <td>...</td>\n",
       "      <td>False</td>\n",
       "      <td>False</td>\n",
       "      <td>False</td>\n",
       "      <td>Eminem's new track Walk on Water ft. BeyoncÃ© ...</td>\n",
       "      <td>Music</td>\n",
       "      <td>4.589104</td>\n",
       "      <td>0.253051</td>\n",
       "      <td>0.733639</td>\n",
       "      <td>4.589104</td>\n",
       "      <td>0.253051</td>\n",
       "    </tr>\n",
       "    <tr>\n",
       "      <th>1</th>\n",
       "      <td>0dBIkQ4Mz1M</td>\n",
       "      <td>17.14.11</td>\n",
       "      <td>PLUSH - Bad Unboxing Fan Mail</td>\n",
       "      <td>iDubbbzTV</td>\n",
       "      <td>23</td>\n",
       "      <td>2017-11-13T17:00:00.000Z</td>\n",
       "      <td>plush|\"bad unboxing\"|\"unboxing\"|\"fan mail\"|\"id...</td>\n",
       "      <td>1014651</td>\n",
       "      <td>127794</td>\n",
       "      <td>1688</td>\n",
       "      <td>...</td>\n",
       "      <td>False</td>\n",
       "      <td>False</td>\n",
       "      <td>False</td>\n",
       "      <td>STill got a lot of packages. Probably will las...</td>\n",
       "      <td>Comedy</td>\n",
       "      <td>12.594873</td>\n",
       "      <td>0.166363</td>\n",
       "      <td>1.284185</td>\n",
       "      <td>12.594873</td>\n",
       "      <td>0.166363</td>\n",
       "    </tr>\n",
       "    <tr>\n",
       "      <th>2</th>\n",
       "      <td>5qpjK5DgCt4</td>\n",
       "      <td>17.14.11</td>\n",
       "      <td>Racist Superman | Rudy Mancuso, King Bach &amp; Le...</td>\n",
       "      <td>Rudy Mancuso</td>\n",
       "      <td>23</td>\n",
       "      <td>2017-11-12T19:05:24.000Z</td>\n",
       "      <td>racist superman|\"rudy\"|\"mancuso\"|\"king\"|\"bach\"...</td>\n",
       "      <td>3191434</td>\n",
       "      <td>146035</td>\n",
       "      <td>5339</td>\n",
       "      <td>...</td>\n",
       "      <td>False</td>\n",
       "      <td>False</td>\n",
       "      <td>False</td>\n",
       "      <td>WATCH MY PREVIOUS VIDEO â¶ \\n\\nSUBSCRIBE âº ...</td>\n",
       "      <td>Comedy</td>\n",
       "      <td>4.575843</td>\n",
       "      <td>0.167292</td>\n",
       "      <td>0.256342</td>\n",
       "      <td>4.575843</td>\n",
       "      <td>0.167292</td>\n",
       "    </tr>\n",
       "    <tr>\n",
       "      <th>3</th>\n",
       "      <td>d380meD0W0M</td>\n",
       "      <td>17.14.11</td>\n",
       "      <td>I Dare You: GOING BALD!?</td>\n",
       "      <td>nigahiga</td>\n",
       "      <td>24</td>\n",
       "      <td>2017-11-12T18:01:41.000Z</td>\n",
       "      <td>ryan|\"higa\"|\"higatv\"|\"nigahiga\"|\"i dare you\"|\"...</td>\n",
       "      <td>2095828</td>\n",
       "      <td>132239</td>\n",
       "      <td>1989</td>\n",
       "      <td>...</td>\n",
       "      <td>False</td>\n",
       "      <td>False</td>\n",
       "      <td>False</td>\n",
       "      <td>I know it's been a while since we did this sho...</td>\n",
       "      <td>Entertainment</td>\n",
       "      <td>6.309630</td>\n",
       "      <td>0.094903</td>\n",
       "      <td>0.835851</td>\n",
       "      <td>6.309630</td>\n",
       "      <td>0.094903</td>\n",
       "    </tr>\n",
       "  </tbody>\n",
       "</table>\n",
       "<p>4 rows × 22 columns</p>\n",
       "</div>"
      ],
      "text/plain": [
       "      video_id trending_date  \\\n",
       "0  n1WpP7iowLc      17.14.11   \n",
       "1  0dBIkQ4Mz1M      17.14.11   \n",
       "2  5qpjK5DgCt4      17.14.11   \n",
       "3  d380meD0W0M      17.14.11   \n",
       "\n",
       "                                               title channel_title  \\\n",
       "0        Eminem - Walk On Water (Audio) ft. BeyoncÃ©    EminemVEVO   \n",
       "1                      PLUSH - Bad Unboxing Fan Mail     iDubbbzTV   \n",
       "2  Racist Superman | Rudy Mancuso, King Bach & Le...  Rudy Mancuso   \n",
       "3                           I Dare You: GOING BALD!?      nigahiga   \n",
       "\n",
       "   category_id              publish_time  \\\n",
       "0           10  2017-11-10T17:00:03.000Z   \n",
       "1           23  2017-11-13T17:00:00.000Z   \n",
       "2           23  2017-11-12T19:05:24.000Z   \n",
       "3           24  2017-11-12T18:01:41.000Z   \n",
       "\n",
       "                                                tags     views   likes  \\\n",
       "0  Eminem|\"Walk\"|\"On\"|\"Water\"|\"Aftermath/Shady/In...  17158579  787425   \n",
       "1  plush|\"bad unboxing\"|\"unboxing\"|\"fan mail\"|\"id...   1014651  127794   \n",
       "2  racist superman|\"rudy\"|\"mancuso\"|\"king\"|\"bach\"...   3191434  146035   \n",
       "3  ryan|\"higa\"|\"higatv\"|\"nigahiga\"|\"i dare you\"|\"...   2095828  132239   \n",
       "\n",
       "   dislikes  ...  comments_disabled ratings_disabled  video_error_or_removed  \\\n",
       "0     43420  ...              False            False                   False   \n",
       "1      1688  ...              False            False                   False   \n",
       "2      5339  ...              False            False                   False   \n",
       "3      1989  ...              False            False                   False   \n",
       "\n",
       "                                         description  category_name  \\\n",
       "0  Eminem's new track Walk on Water ft. BeyoncÃ© ...          Music   \n",
       "1  STill got a lot of packages. Probably will las...         Comedy   \n",
       "2  WATCH MY PREVIOUS VIDEO â¶ \\n\\nSUBSCRIBE âº ...         Comedy   \n",
       "3  I know it's been a while since we did this sho...  Entertainment   \n",
       "\n",
       "   like-rate dislike-rate  comment_rate  like_rate  dislike_rate  \n",
       "0   4.589104     0.253051      0.733639   4.589104      0.253051  \n",
       "1  12.594873     0.166363      1.284185  12.594873      0.166363  \n",
       "2   4.575843     0.167292      0.256342   4.575843      0.167292  \n",
       "3   6.309630     0.094903      0.835851   6.309630      0.094903  \n",
       "\n",
       "[4 rows x 22 columns]"
      ]
     },
     "execution_count": 68,
     "metadata": {},
     "output_type": "execute_result"
    }
   ],
   "source": [
    "full_df.head(4)"
   ]
  },
  {
   "cell_type": "code",
   "execution_count": 33,
   "id": "8708c201-ff5f-42d6-977a-d01e75b831cc",
   "metadata": {},
   "outputs": [
    {
     "data": {
      "text/plain": [
       "array([10, 23, 24, 25, 22, 26,  1, 28, 20, 17, 29, 15, 19,  2, 27, 43, 30,\n",
       "       44])"
      ]
     },
     "execution_count": 33,
     "metadata": {},
     "output_type": "execute_result"
    }
   ],
   "source": [
    "full_df['category_id'].unique()"
   ]
  },
  {
   "cell_type": "code",
   "execution_count": 34,
   "id": "2694b3e1-c325-4dc0-b636-d3686a0d8f0e",
   "metadata": {},
   "outputs": [],
   "source": [
    "like_counts = full_df.groupby('category_id')['likes'].sum()"
   ]
  },
  {
   "cell_type": "code",
   "execution_count": 35,
   "id": "2b961f22-56dd-4f84-aa91-2cadff3afdf8",
   "metadata": {},
   "outputs": [
    {
     "name": "stdout",
     "output_type": "stream",
     "text": [
      "category_id\n",
      "1      437611281\n",
      "2       43537811\n",
      "10    5867826278\n",
      "15      47230769\n",
      "17     330258769\n",
      "19      12389403\n",
      "20     251765515\n",
      "22     583368312\n",
      "23     931444449\n",
      "24    2377832055\n",
      "25     142013256\n",
      "26     306753785\n",
      "27     105055435\n",
      "28     203111636\n",
      "29      83561212\n",
      "30        435777\n",
      "43       3630978\n",
      "44           198\n",
      "Name: likes, dtype: int64\n"
     ]
    }
   ],
   "source": [
    "print(like_counts)"
   ]
  },
  {
   "cell_type": "code",
   "execution_count": 36,
   "id": "a58f9544-2aeb-4e9f-8883-a5caf2eb6a16",
   "metadata": {},
   "outputs": [
    {
     "data": {
      "text/plain": [
       "{'kind': 'youtube#videoCategory',\n",
       " 'etag': '\"m2yskBQFythfE4irbTIeOgYYfBU/Xy1mB4_yLrHy_BmKmPBggty2mZQ\"',\n",
       " 'id': '1',\n",
       " 'snippet': {'channelId': 'UCBR8-60-B28hp2BmDPdntcQ',\n",
       "  'title': 'Film & Animation',\n",
       "  'assignable': True}}"
      ]
     },
     "execution_count": 36,
     "metadata": {},
     "output_type": "execute_result"
    }
   ],
   "source": [
    "json_df= pd.read_json(r'C:\\Users\\ndhar\\additional_data\\US_category_id.json')\n",
    "json_df['items'][0]"
   ]
  },
  {
   "cell_type": "code",
   "execution_count": 37,
   "id": "2aae76ca-3451-45ec-8bd3-2e3d5399e7a8",
   "metadata": {},
   "outputs": [],
   "source": [
    "cat_dict = {}\n",
    "for item in json_df['items'].values:\n",
    "    cat_dict[int(item['id'])]=item ['snippet']['title']"
   ]
  },
  {
   "cell_type": "code",
   "execution_count": 38,
   "id": "a71601fa-08de-42e3-9713-4c1f26180706",
   "metadata": {},
   "outputs": [
    {
     "data": {
      "text/plain": [
       "{1: 'Film & Animation',\n",
       " 2: 'Autos & Vehicles',\n",
       " 10: 'Music',\n",
       " 15: 'Pets & Animals',\n",
       " 17: 'Sports',\n",
       " 18: 'Short Movies',\n",
       " 19: 'Travel & Events',\n",
       " 20: 'Gaming',\n",
       " 21: 'Videoblogging',\n",
       " 22: 'People & Blogs',\n",
       " 23: 'Comedy',\n",
       " 24: 'Entertainment',\n",
       " 25: 'News & Politics',\n",
       " 26: 'Howto & Style',\n",
       " 27: 'Education',\n",
       " 28: 'Science & Technology',\n",
       " 29: 'Nonprofits & Activism',\n",
       " 30: 'Movies',\n",
       " 31: 'Anime/Animation',\n",
       " 32: 'Action/Adventure',\n",
       " 33: 'Classics',\n",
       " 34: 'Comedy',\n",
       " 35: 'Documentary',\n",
       " 36: 'Drama',\n",
       " 37: 'Family',\n",
       " 38: 'Foreign',\n",
       " 39: 'Horror',\n",
       " 40: 'Sci-Fi/Fantasy',\n",
       " 41: 'Thriller',\n",
       " 42: 'Shorts',\n",
       " 43: 'Shows',\n",
       " 44: 'Trailers'}"
      ]
     },
     "execution_count": 38,
     "metadata": {},
     "output_type": "execute_result"
    }
   ],
   "source": [
    "cat_dict"
   ]
  },
  {
   "cell_type": "code",
   "execution_count": 39,
   "id": "b59ab043-91ce-4312-a242-e097f092c099",
   "metadata": {},
   "outputs": [],
   "source": [
    "full_df['category_name']=full_df['category_id'].map(cat_dict)\n",
    "#It applies a mapping to each element in the Series using the provided dictionary cat_dict. For each value in 'category_id', it looks up the corresponding value (or label) in cat_dict"
   ]
  },
  {
   "cell_type": "code",
   "execution_count": 40,
   "id": "3b512363-9611-410c-9834-df95ca1747cb",
   "metadata": {},
   "outputs": [
    {
     "data": {
      "text/html": [
       "<div>\n",
       "<style scoped>\n",
       "    .dataframe tbody tr th:only-of-type {\n",
       "        vertical-align: middle;\n",
       "    }\n",
       "\n",
       "    .dataframe tbody tr th {\n",
       "        vertical-align: top;\n",
       "    }\n",
       "\n",
       "    .dataframe thead th {\n",
       "        text-align: right;\n",
       "    }\n",
       "</style>\n",
       "<table border=\"1\" class=\"dataframe\">\n",
       "  <thead>\n",
       "    <tr style=\"text-align: right;\">\n",
       "      <th></th>\n",
       "      <th>video_id</th>\n",
       "      <th>trending_date</th>\n",
       "      <th>title</th>\n",
       "      <th>channel_title</th>\n",
       "      <th>category_id</th>\n",
       "      <th>publish_time</th>\n",
       "      <th>tags</th>\n",
       "      <th>views</th>\n",
       "      <th>likes</th>\n",
       "      <th>dislikes</th>\n",
       "      <th>comment_count</th>\n",
       "      <th>thumbnail_link</th>\n",
       "      <th>comments_disabled</th>\n",
       "      <th>ratings_disabled</th>\n",
       "      <th>video_error_or_removed</th>\n",
       "      <th>description</th>\n",
       "      <th>category_name</th>\n",
       "    </tr>\n",
       "  </thead>\n",
       "  <tbody>\n",
       "    <tr>\n",
       "      <th>0</th>\n",
       "      <td>n1WpP7iowLc</td>\n",
       "      <td>17.14.11</td>\n",
       "      <td>Eminem - Walk On Water (Audio) ft. BeyoncÃ©</td>\n",
       "      <td>EminemVEVO</td>\n",
       "      <td>10</td>\n",
       "      <td>2017-11-10T17:00:03.000Z</td>\n",
       "      <td>Eminem|\"Walk\"|\"On\"|\"Water\"|\"Aftermath/Shady/In...</td>\n",
       "      <td>17158579</td>\n",
       "      <td>787425</td>\n",
       "      <td>43420</td>\n",
       "      <td>125882</td>\n",
       "      <td>https://i.ytimg.com/vi/n1WpP7iowLc/default.jpg</td>\n",
       "      <td>False</td>\n",
       "      <td>False</td>\n",
       "      <td>False</td>\n",
       "      <td>Eminem's new track Walk on Water ft. BeyoncÃ© ...</td>\n",
       "      <td>Music</td>\n",
       "    </tr>\n",
       "  </tbody>\n",
       "</table>\n",
       "</div>"
      ],
      "text/plain": [
       "      video_id trending_date                                        title  \\\n",
       "0  n1WpP7iowLc      17.14.11  Eminem - Walk On Water (Audio) ft. BeyoncÃ©   \n",
       "\n",
       "  channel_title  category_id              publish_time  \\\n",
       "0    EminemVEVO           10  2017-11-10T17:00:03.000Z   \n",
       "\n",
       "                                                tags     views   likes  \\\n",
       "0  Eminem|\"Walk\"|\"On\"|\"Water\"|\"Aftermath/Shady/In...  17158579  787425   \n",
       "\n",
       "   dislikes  comment_count                                  thumbnail_link  \\\n",
       "0     43420         125882  https://i.ytimg.com/vi/n1WpP7iowLc/default.jpg   \n",
       "\n",
       "   comments_disabled  ratings_disabled  video_error_or_removed  \\\n",
       "0              False             False                   False   \n",
       "\n",
       "                                         description category_name  \n",
       "0  Eminem's new track Walk on Water ft. BeyoncÃ© ...         Music  "
      ]
     },
     "execution_count": 40,
     "metadata": {},
     "output_type": "execute_result"
    }
   ],
   "source": [
    "full_df.head(1)"
   ]
  },
  {
   "cell_type": "code",
   "execution_count": 41,
   "id": "e530c254-9823-48ed-9f87-2788df2a4ebb",
   "metadata": {},
   "outputs": [
    {
     "data": {
      "image/png": "[encoded data removed]",
      "text/plain": [
       "<Figure size 1000x600 with 1 Axes>"
      ]
     },
     "metadata": {},
     "output_type": "display_data"
    }
   ],
   "source": [
    "# First, define your x and y variables\n",
    "x = full_df['category_name']\n",
    "y = full_df['likes']\n",
    "\n",
    "# Create a figure and plot a bar graph\n",
    "plt.figure(figsize=(10,6))\n",
    "plt.bar(x, y, color='skyblue')\n",
    "plt.xticks(rotation='vertical')\n",
    "\n",
    "# If you also want to plot a line graph on top of it (optional)\n",
    "#plt.plot(x, y, color='red')  # You can adjust or remove this line as needed\n",
    "\n",
    "plt.xlabel(\"Category Name\")\n",
    "plt.ylabel(\"Likes\")\n",
    "plt.title(\"Likes per Category\")\n",
    "#plt.tight_layout()\n",
    "plt.show()\n"
   ]
  },
  {
   "cell_type": "code",
   "execution_count": 50,
   "id": "aa0b6f29-3a2a-417b-a6df-5b2b0c187c99",
   "metadata": {},
   "outputs": [],
   "source": [
    "#find out  whether audience is engaged or not ?\n",
    "full_df['like_rate']=(full_df['likes']/full_df['views'])*100\n",
    "full_df['dislike_rate']=(full_df['dislikes']/full_df['views'])*100\n",
    "full_df['comment_rate']=(full_df['comment_count']/full_df['views'])*100\n",
    "#It takes the number of likes (from the 'likes' column) and divides it by the number of views (from the 'views' column) for each row. Multiplying by 100 converts the result into a percentage, giving you the \"like rate\" for each entry."
   ]
  },
  {
   "cell_type": "code",
   "execution_count": 51,
   "id": "966ff01d-bbc0-401a-a799-461af811b8e2",
   "metadata": {},
   "outputs": [
    {
     "data": {
      "text/html": [
       "<div>\n",
       "<style scoped>\n",
       "    .dataframe tbody tr th:only-of-type {\n",
       "        vertical-align: middle;\n",
       "    }\n",
       "\n",
       "    .dataframe tbody tr th {\n",
       "        vertical-align: top;\n",
       "    }\n",
       "\n",
       "    .dataframe thead th {\n",
       "        text-align: right;\n",
       "    }\n",
       "</style>\n",
       "<table border=\"1\" class=\"dataframe\">\n",
       "  <thead>\n",
       "    <tr style=\"text-align: right;\">\n",
       "      <th></th>\n",
       "      <th>views</th>\n",
       "      <th>likes</th>\n",
       "      <th>dislikes</th>\n",
       "    </tr>\n",
       "  </thead>\n",
       "  <tbody>\n",
       "    <tr>\n",
       "      <th>views</th>\n",
       "      <td>1.000000</td>\n",
       "      <td>0.779531</td>\n",
       "      <td>0.405428</td>\n",
       "    </tr>\n",
       "    <tr>\n",
       "      <th>likes</th>\n",
       "      <td>0.779531</td>\n",
       "      <td>1.000000</td>\n",
       "      <td>0.451809</td>\n",
       "    </tr>\n",
       "    <tr>\n",
       "      <th>dislikes</th>\n",
       "      <td>0.405428</td>\n",
       "      <td>0.451809</td>\n",
       "      <td>1.000000</td>\n",
       "    </tr>\n",
       "  </tbody>\n",
       "</table>\n",
       "</div>"
      ],
      "text/plain": [
       "             views     likes  dislikes\n",
       "views     1.000000  0.779531  0.405428\n",
       "likes     0.779531  1.000000  0.451809\n",
       "dislikes  0.405428  0.451809  1.000000"
      ]
     },
     "execution_count": 51,
     "metadata": {},
     "output_type": "execute_result"
    }
   ],
   "source": [
    "full_df.columns #It helps you verify that the new columns ('like_rate', 'dislike_rate', and 'comment_rate') have been added correctly.\n",
    "full_df[['views','likes','dislikes']].corr()"
   ]
  },
  {
   "cell_type": "code",
   "execution_count": 52,
   "id": "b88301a5-2005-4910-a91f-ee35376b6c2d",
   "metadata": {},
   "outputs": [
    {
     "data": {
      "text/plain": [
       "<Axes: >"
      ]
     },
     "execution_count": 52,
     "metadata": {},
     "output_type": "execute_result"
    },
    {
     "data": {
      "image/png": "[encoded data removed]",
      "text/plain": [
       "<Figure size 640x480 with 2 Axes>"
      ]
     },
     "metadata": {},
     "output_type": "display_data"
    }
   ],
   "source": [
    "sns.heatmap(full_df[['views','likes','dislikes']].corr(),annot=True)\n",
    "#This parameter tells Seaborn to annotate each cell in the heatmap with the numeric value of the correlation coefficient. This makes it easier to see the exact values in addition to the color gradient."
   ]
  },
  {
   "cell_type": "code",
   "execution_count": 54,
   "id": "c90cd3f4-eb08-4d68-95ee-d86ff8806e23",
   "metadata": {},
   "outputs": [
    {
     "data": {
      "image/png": "[encoded data removed]",
      "text/plain": [
       "<Figure size 800x600 with 1 Axes>"
      ]
     },
     "metadata": {},
     "output_type": "display_data"
    }
   ],
   "source": [
    "plt.figure(figsize=(8,6))\n",
    "sns.boxplot(x='category_name',y='like_rate',data=full_df)\n",
    "plt.xticks(rotation='vertical')\n",
    "plt.show()"
   ]
  },
  {
   "cell_type": "code",
   "execution_count": 70,
   "id": "59348e41-ce6f-4ad5-8e53-34d8aad44ab5",
   "metadata": {},
   "outputs": [
    {
     "data": {
      "text/plain": [
       "channel_title\n",
       "The Late Show with Stephen Colbert    710\n",
       "WWE                                   643\n",
       "Late Night with Seth Meyers           592\n",
       "TheEllenShow                          555\n",
       "Jimmy Kimmel Live                     528\n",
       "                                     ... \n",
       "æµ·å¤ã®åå¿ï¼ LOVE JAPAN           1\n",
       "ã­ãã¦ãé\n",
       "ä¿¡å¢                   1\n",
       "ãã£ã³ãã« T.M                     1\n",
       "FBas                                    1\n",
       "Owen Harvey                             1\n",
       "Name: count, Length: 37824, dtype: int64"
      ]
     },
     "execution_count": 70,
     "metadata": {},
     "output_type": "execute_result"
    }
   ],
   "source": [
    "full_df['channel_title'].value_counts()\n",
    "#this code tells us that wwe appears 643 times , jimmy kimmel live appears 528 times ertc etc "
   ]
  },
  {
   "cell_type": "code",
   "execution_count": 62,
   "id": "8aaf54e4-73b5-465d-82f8-6c95a5a6f16d",
   "metadata": {},
   "outputs": [
    {
     "name": "stdout",
     "output_type": "stream",
     "text": [
      "37824\n"
     ]
    }
   ],
   "source": [
    "unique_count = len(full_df['channel_title'].unique())\n",
    "#You can simply get the count of unique values by using the len() function:\n",
    "print(unique_count)"
   ]
  },
  {
   "cell_type": "code",
   "execution_count": 63,
   "id": "d4c3e68d-daa0-4e55-a90a-b3f5feef2c8b",
   "metadata": {},
   "outputs": [
    {
     "name": "stdout",
     "output_type": "stream",
     "text": [
      "37824\n"
     ]
    }
   ],
   "source": [
    "unique_count = full_df['channel_title'].nunique()\n",
    "#Pandas Series has a built-in method called .nunique() which directly returns the number of unique element\n",
    "print(unique_count)"
   ]
  },
  {
   "cell_type": "code",
   "execution_count": 71,
   "id": "11a9721e-bc13-4f8b-afc1-4db14de44948",
   "metadata": {},
   "outputs": [],
   "source": [
    "cdf=full_df.groupby(['channel_title']).size().sort_values(ascending = False).reset_index()\n",
    "#full_df.groupby(['channel_title']):\n",
    "#-->This groups the DataFrame full_df by the values in the channel_title column.\n",
    "#-->All rows with the same channel_title will be grouped together.\n",
    "#.size():\n",
    "#-->After grouping, .size() counts the number of rows in each group.\n",
    "#-->This gives the number of times each channel_title appears in the DataFrame.\n",
    "#.sort_values(ascending=False):\n",
    "#-->ascending=False means the most frequent channel will be at the top.\n",
    "#reset_index() converts this Series into a DataFrame:"
   ]
  },
  {
   "cell_type": "code",
   "execution_count": 83,
   "id": "3d2906c4-7a8f-41e7-a2cb-f50f54b4fe19",
   "metadata": {},
   "outputs": [
    {
     "data": {
      "text/html": [
       "<div>\n",
       "<style scoped>\n",
       "    .dataframe tbody tr th:only-of-type {\n",
       "        vertical-align: middle;\n",
       "    }\n",
       "\n",
       "    .dataframe tbody tr th {\n",
       "        vertical-align: top;\n",
       "    }\n",
       "\n",
       "    .dataframe thead th {\n",
       "        text-align: right;\n",
       "    }\n",
       "</style>\n",
       "<table border=\"1\" class=\"dataframe\">\n",
       "  <thead>\n",
       "    <tr style=\"text-align: right;\">\n",
       "      <th></th>\n",
       "      <th>channel_title</th>\n",
       "      <th>total_vedios</th>\n",
       "    </tr>\n",
       "  </thead>\n",
       "  <tbody>\n",
       "    <tr>\n",
       "      <th>0</th>\n",
       "      <td>The Late Show with Stephen Colbert</td>\n",
       "      <td>710</td>\n",
       "    </tr>\n",
       "    <tr>\n",
       "      <th>1</th>\n",
       "      <td>WWE</td>\n",
       "      <td>643</td>\n",
       "    </tr>\n",
       "    <tr>\n",
       "      <th>2</th>\n",
       "      <td>Late Night with Seth Meyers</td>\n",
       "      <td>592</td>\n",
       "    </tr>\n",
       "    <tr>\n",
       "      <th>3</th>\n",
       "      <td>TheEllenShow</td>\n",
       "      <td>555</td>\n",
       "    </tr>\n",
       "    <tr>\n",
       "      <th>4</th>\n",
       "      <td>Jimmy Kimmel Live</td>\n",
       "      <td>528</td>\n",
       "    </tr>\n",
       "    <tr>\n",
       "      <th>...</th>\n",
       "      <td>...</td>\n",
       "      <td>...</td>\n",
       "    </tr>\n",
       "    <tr>\n",
       "      <th>37819</th>\n",
       "      <td>Juste Pour Jouer</td>\n",
       "      <td>1</td>\n",
       "    </tr>\n",
       "    <tr>\n",
       "      <th>37820</th>\n",
       "      <td>JusteJo</td>\n",
       "      <td>1</td>\n",
       "    </tr>\n",
       "    <tr>\n",
       "      <th>37821</th>\n",
       "      <td>Justie</td>\n",
       "      <td>1</td>\n",
       "    </tr>\n",
       "    <tr>\n",
       "      <th>37822</th>\n",
       "      <td>#kaneki ken</td>\n",
       "      <td>1</td>\n",
       "    </tr>\n",
       "    <tr>\n",
       "      <th>37823</th>\n",
       "      <td>#tae_tae</td>\n",
       "      <td>1</td>\n",
       "    </tr>\n",
       "  </tbody>\n",
       "</table>\n",
       "<p>37824 rows × 2 columns</p>\n",
       "</div>"
      ],
      "text/plain": [
       "                            channel_title  total_vedios\n",
       "0      The Late Show with Stephen Colbert           710\n",
       "1                                     WWE           643\n",
       "2             Late Night with Seth Meyers           592\n",
       "3                            TheEllenShow           555\n",
       "4                       Jimmy Kimmel Live           528\n",
       "...                                   ...           ...\n",
       "37819                    Juste Pour Jouer             1\n",
       "37820                             JusteJo             1\n",
       "37821                              Justie             1\n",
       "37822                         #kaneki ken             1\n",
       "37823                            #tae_tae             1\n",
       "\n",
       "[37824 rows x 2 columns]"
      ]
     },
     "execution_count": 83,
     "metadata": {},
     "output_type": "execute_result"
    }
   ],
   "source": [
    " cdf"
   ]
  },
  {
   "cell_type": "code",
   "execution_count": 84,
   "id": "c67b4875-79c3-45a7-9246-6140c2f0ae43",
   "metadata": {},
   "outputs": [],
   "source": [
    "cdf.rename(columns = {0:'total_vedios'},inplace = True)"
   ]
  },
  {
   "cell_type": "code",
   "execution_count": null,
   "id": "0f3309d8-6e10-45d0-8f61-a0bcee0ee690",
   "metadata": {},
   "outputs": [],
   "source": [
    "'''\n",
    "cdf: Your original DataFrame.\n",
    ".sort_values(by='total_vedios', ascending=False): This is a Pandas function used to sort the rows of the DataFrame based on the values in the total_vedios column.\n",
    "by='total_vedios': Specifies the column to sort by.\n",
    "ascending=False: Sorts the values in descending order (highest to lowest).\n",
    "If you set ascending=True, it would sort in ascending order (lowest to highest).\n",
    "cdf_sorted: The new DataFrame that contains the same data as cdf but sorted by total_vedios.\n",
    "'''"
   ]
  },
  {
   "cell_type": "code",
   "execution_count": 88,
   "id": "982e02d3-2634-4690-b173-72231dcffe1b",
   "metadata": {},
   "outputs": [
    {
     "data": {
      "image/png": "[encoded data removed]",
      "text/plain": [
       "<Figure size 1000x600 with 1 Axes>"
      ]
     },
     "metadata": {},
     "output_type": "display_data"
    }
   ],
   "source": [
    "# Sorting the DataFrame by 'total_vedios' in descending order\n",
    "cdf_sorted = cdf.sort_values(by='total_vedios', ascending=False)\n",
    "\n",
    "# Selecting the top 10 rows\n",
    "top_10_cdf = cdf_sorted.head(20)\n",
    "\n",
    "# Plotting\n",
    "import matplotlib.pyplot as plt\n",
    "\n",
    "plt.figure(figsize=(10, 6))\n",
    "plt.bar(top_10_cdf['channel_title'], top_10_cdf['total_vedios'], color='skyblue')\n",
    "plt.xticks(rotation='vertical')\n",
    "plt.xlabel('Channel Title')\n",
    "plt.ylabel('Total Videos')\n",
    "plt.title('Top 10 Channels by Number of Videos')\n",
    "plt.show()\n"
   ]
  },
  {
   "cell_type": "code",
   "execution_count": 89,
   "id": "a2b7afa1-39d6-401a-8ff3-bea3a3f143ed",
   "metadata": {},
   "outputs": [
    {
     "data": {
      "image/png": "[encoded data removed]",
      "text/plain": [
       "<Figure size 1000x600 with 1 Axes>"
      ]
     },
     "metadata": {},
     "output_type": "display_data"
    }
   ],
   "source": [
    "# Sorting the DataFrame by 'total_vedios' in descending order\n",
    "cdf_sorted = cdf.sort_values(by='total_vedios', ascending=True)\n",
    "\n",
    "# Selecting the top 10 rows\n",
    "top_10_cdf = cdf_sorted.head(20)\n",
    "\n",
    "# Plotting\n",
    "import matplotlib.pyplot as plt\n",
    "\n",
    "plt.figure(figsize=(10, 6))\n",
    "plt.bar(top_10_cdf['channel_title'], top_10_cdf['total_vedios'], color='skyblue')\n",
    "plt.xticks(rotation='vertical')\n",
    "plt.xlabel('Channel Title')\n",
    "plt.ylabel('Total Videos')\n",
    "plt.title('Top 10 Channels by Number of Videos')\n",
    "plt.show()"
   ]
  },
  {
   "cell_type": "code",
   "execution_count": null,
   "id": "73be47f3-1f40-49bc-ab0e-d4f4fda973b1",
   "metadata": {},
   "outputs": [],
   "source": []
  }
 ],
 "metadata": {
  "kernelspec": {
   "display_name": "Python 3 (ipykernel)",
   "language": "python",
   "name": "python3"
  },
  "language_info": {
   "codemirror_mode": {
    "name": "ipython",
    "version": 3
   },
   "file_extension": ".py",
   "mimetype": "text/x-python",
   "name": "python",
   "nbconvert_exporter": "python",
   "pygments_lexer": "ipython3",
   "version": "3.12.5"
  }
 },
 "nbformat": 4,
 "nbformat_minor": 5
}
